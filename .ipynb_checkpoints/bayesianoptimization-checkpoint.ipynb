{
 "cells": [
  {
   "cell_type": "code",
   "execution_count": 6,
   "metadata": {},
   "outputs": [
    {
     "name": "stderr",
     "output_type": "stream",
     "text": [
      "/usr/lib/python3.6/importlib/_bootstrap.py:219: RuntimeWarning: numpy.dtype size changed, may indicate binary incompatibility. Expected 96, got 88\n",
      "  return f(*args, **kwds)\n",
      "/usr/lib/python3.6/importlib/_bootstrap.py:219: RuntimeWarning: numpy.dtype size changed, may indicate binary incompatibility. Expected 96, got 88\n",
      "  return f(*args, **kwds)\n"
     ]
    }
   ],
   "source": [
    "import numpy as np\n",
    "import pandas as pd\n",
    "import matplotlib.pyplot as plt\n",
    "import seaborn as sns\n",
    "import lightgbm as lgb\n",
    "import gc"
   ]
  },
  {
   "cell_type": "code",
   "execution_count": 7,
   "metadata": {},
   "outputs": [],
   "source": [
    "from skopt import gp_minimize\n",
    "from skopt.space import Real, Integer\n",
    "from skopt.utils import use_named_args\n",
    "from sklearn.metrics import roc_auc_score\n",
    "from sklearn.model_selection import train_test_split"
   ]
  },
  {
   "cell_type": "markdown",
   "metadata": {},
   "source": [
    "# Prepping Data for algorithm"
   ]
  },
  {
   "cell_type": "code",
   "execution_count": 8,
   "metadata": {},
   "outputs": [],
   "source": [
    "X = pd.read_csv('../input/final_data.csv')\n",
    "Y = pd.read_csv('../input/final_target.csv', header=None)"
   ]
  },
  {
   "cell_type": "code",
   "execution_count": 9,
   "metadata": {},
   "outputs": [],
   "source": [
    "Y = Y[1]"
   ]
  },
  {
   "cell_type": "code",
   "execution_count": 10,
   "metadata": {},
   "outputs": [],
   "source": [
    "X_train, X_test, y_train, y_test = train_test_split(X, Y, test_size=0.2, random_state=18)"
   ]
  },
  {
   "cell_type": "code",
   "execution_count": 6,
   "metadata": {},
   "outputs": [],
   "source": [
    "train_lgb = lgb.Dataset(data=X_train, label=y_train)"
   ]
  },
  {
   "cell_type": "markdown",
   "metadata": {},
   "source": [
    "# Model Tuning for LightGBM"
   ]
  },
  {
   "cell_type": "markdown",
   "metadata": {},
   "source": [
    "Defining Search Space"
   ]
  },
  {
   "cell_type": "code",
   "execution_count": 22,
   "metadata": {},
   "outputs": [],
   "source": [
    "space  = [Integer(3, 10, name='max_depth'),\n",
    "          Integer(5, 50, name='num_leaves'),\n",
    "          Real(0, 0.5, name='reg_alpha'),\n",
    "          Real(0.6, 0.9, name='subsample'),\n",
    "          Real(0.6, 0.9, name='colsample_bytree'),\n",
    "          Real(0, 0.5, name='reg_lambda'),\n",
    "          Real(0.01, 0.02, name='learning_rate'),\n",
    "          Real(0.01, 0.03, name='min_split_gain'),\n",
    "          Integer(1, 40, name='min_child_weight')\n",
    "         ]"
   ]
  },
  {
   "cell_type": "markdown",
   "metadata": {},
   "source": [
    "Defining Objective function to optimize"
   ]
  },
  {
   "cell_type": "code",
   "execution_count": 23,
   "metadata": {},
   "outputs": [],
   "source": [
    "def objective_func(values):\n",
    "    params = {\n",
    "        'task': 'train', \n",
    "        'boosting_type': 'gbdt', \n",
    "        'objective': 'binary', \n",
    "        'metric': 'auc', \n",
    "        'learning_rate': values[6], \n",
    "        'num_leaves': values[1], \n",
    "        'verbose': 0 ,\n",
    "        'colsample_bytree':values[4],\n",
    "        'subsample':values[3], \n",
    "        'max_depth':values[0], \n",
    "        'reg_alpha':values[2], \n",
    "        'reg_lambda':values[5], \n",
    "        'min_split_gain':values[7], \n",
    "        'min_child_weight':values[8]\n",
    "    }\n",
    "    print('----------------------------------------------------------------------------------------')\n",
    "    print('Current Parameters : ', params)\n",
    "    model = lgb.train(params, train_lgb,500)\n",
    "    predictions_lgb = model.predict(X_test)\n",
    "    auc = - roc_auc_score(y_test, predictions_lgb)\n",
    "    print('Current Score : ', -auc)\n",
    "    gc.collect()\n",
    "    return auc"
   ]
  },
  {
   "cell_type": "markdown",
   "metadata": {},
   "source": [
    "Running Optimization Algorithm"
   ]
  },
  {
   "cell_type": "code",
   "execution_count": 24,
   "metadata": {},
   "outputs": [
    {
     "name": "stdout",
     "output_type": "stream",
     "text": [
      "----------------------------------------------------------------------------------------\n",
      "Current Parameters :  {'task': 'train', 'boosting_type': 'gbdt', 'objective': 'binary', 'metric': 'auc', 'learning_rate': 0.012975346065444723, 'num_leaves': 43, 'verbose': 0, 'colsample_bytree': 0.7870691090357917, 'subsample': 0.8541755216352377, 'max_depth': 7, 'reg_alpha': 0.4289728088113785, 'reg_lambda': 0.19219085364634997, 'min_split_gain': 0.011134259546348864, 'min_child_weight': 12}\n",
      "Current Score :  0.774952334258902\n",
      "----------------------------------------------------------------------------------------\n",
      "Current Parameters :  {'task': 'train', 'boosting_type': 'gbdt', 'objective': 'binary', 'metric': 'auc', 'learning_rate': 0.016481718720511972, 'num_leaves': 42, 'verbose': 0, 'colsample_bytree': 0.8508236290612133, 'subsample': 0.7178354388302489, 'max_depth': 6, 'reg_alpha': 0.23998858618752872, 'reg_lambda': 0.16869808020863422, 'min_split_gain': 0.01736483079681096, 'min_child_weight': 38}\n",
      "Current Score :  0.7759595817012254\n",
      "----------------------------------------------------------------------------------------\n",
      "Current Parameters :  {'task': 'train', 'boosting_type': 'gbdt', 'objective': 'binary', 'metric': 'auc', 'learning_rate': 0.01720632654725917, 'num_leaves': 44, 'verbose': 0, 'colsample_bytree': 0.7561432438653615, 'subsample': 0.8402732255938934, 'max_depth': 4, 'reg_alpha': 0.2368040226368553, 'reg_lambda': 0.3394397650594802, 'min_split_gain': 0.021640395841502146, 'min_child_weight': 22}\n",
      "Current Score :  0.7712143407315204\n",
      "----------------------------------------------------------------------------------------\n",
      "Current Parameters :  {'task': 'train', 'boosting_type': 'gbdt', 'objective': 'binary', 'metric': 'auc', 'learning_rate': 0.011352181734054521, 'num_leaves': 10, 'verbose': 0, 'colsample_bytree': 0.8210754531386875, 'subsample': 0.655899702998028, 'max_depth': 8, 'reg_alpha': 0.23680020967332877, 'reg_lambda': 0.10827517721218596, 'min_split_gain': 0.016482820155864282, 'min_child_weight': 7}\n",
      "Current Score :  0.7658949581608637\n",
      "----------------------------------------------------------------------------------------\n",
      "Current Parameters :  {'task': 'train', 'boosting_type': 'gbdt', 'objective': 'binary', 'metric': 'auc', 'learning_rate': 0.010992803503589738, 'num_leaves': 22, 'verbose': 0, 'colsample_bytree': 0.7839190373652398, 'subsample': 0.7349849969733683, 'max_depth': 5, 'reg_alpha': 0.45129923776470243, 'reg_lambda': 0.45117429158699224, 'min_split_gain': 0.029396181354934978, 'min_child_weight': 26}\n",
      "Current Score :  0.7682962652545688\n",
      "----------------------------------------------------------------------------------------\n",
      "Current Parameters :  {'task': 'train', 'boosting_type': 'gbdt', 'objective': 'binary', 'metric': 'auc', 'learning_rate': 0.016342740579573353, 'num_leaves': 21, 'verbose': 0, 'colsample_bytree': 0.6975141687025057, 'subsample': 0.7823492006146404, 'max_depth': 4, 'reg_alpha': 0.3753430706092282, 'reg_lambda': 0.019212713236367366, 'min_split_gain': 0.02917898537249041, 'min_child_weight': 26}\n",
      "Current Score :  0.7708968863678657\n",
      "----------------------------------------------------------------------------------------\n",
      "Current Parameters :  {'task': 'train', 'boosting_type': 'gbdt', 'objective': 'binary', 'metric': 'auc', 'learning_rate': 0.013380076148388919, 'num_leaves': 50, 'verbose': 0, 'colsample_bytree': 0.7424092506865239, 'subsample': 0.7243105764679106, 'max_depth': 7, 'reg_alpha': 0.2909251647192672, 'reg_lambda': 0.31175505056593417, 'min_split_gain': 0.023495046445180412, 'min_child_weight': 13}\n",
      "Current Score :  0.7754339245096021\n",
      "----------------------------------------------------------------------------------------\n",
      "Current Parameters :  {'task': 'train', 'boosting_type': 'gbdt', 'objective': 'binary', 'metric': 'auc', 'learning_rate': 0.01971945002499666, 'num_leaves': 48, 'verbose': 0, 'colsample_bytree': 0.7868538286640009, 'subsample': 0.604071490683633, 'max_depth': 8, 'reg_alpha': 0.3312634334750222, 'reg_lambda': 0.33682981541789475, 'min_split_gain': 0.02756386942694354, 'min_child_weight': 21}\n",
      "Current Score :  0.7795346999362038\n",
      "----------------------------------------------------------------------------------------\n",
      "Current Parameters :  {'task': 'train', 'boosting_type': 'gbdt', 'objective': 'binary', 'metric': 'auc', 'learning_rate': 0.01480893530836163, 'num_leaves': 25, 'verbose': 0, 'colsample_bytree': 0.8938760186438186, 'subsample': 0.7325132763746536, 'max_depth': 3, 'reg_alpha': 0.00999383270437937, 'reg_lambda': 0.17972223198466078, 'min_split_gain': 0.023773223656115408, 'min_child_weight': 35}\n",
      "Current Score :  0.7642390934734232\n",
      "----------------------------------------------------------------------------------------\n",
      "Current Parameters :  {'task': 'train', 'boosting_type': 'gbdt', 'objective': 'binary', 'metric': 'auc', 'learning_rate': 0.019211576102372, 'num_leaves': 15, 'verbose': 0, 'colsample_bytree': 0.7526906882001043, 'subsample': 0.8595307683916156, 'max_depth': 9, 'reg_alpha': 0.2825944333024377, 'reg_lambda': 0.4583614770097305, 'min_split_gain': 0.011662249852612048, 'min_child_weight': 12}\n",
      "Current Score :  0.7762943827091063\n",
      "----------------------------------------------------------------------------------------\n",
      "Current Parameters :  {'task': 'train', 'boosting_type': 'gbdt', 'objective': 'binary', 'metric': 'auc', 'learning_rate': 0.019336734617716175, 'num_leaves': 43, 'verbose': 0, 'colsample_bytree': 0.7756134289523464, 'subsample': 0.6684053697192187, 'max_depth': 10, 'reg_alpha': 0.49439454422374324, 'reg_lambda': 0.4738631480896385, 'min_split_gain': 0.012996176587999812, 'min_child_weight': 37}\n",
      "Current Score :  0.7807790612802064\n",
      "----------------------------------------------------------------------------------------\n",
      "Current Parameters :  {'task': 'train', 'boosting_type': 'gbdt', 'objective': 'binary', 'metric': 'auc', 'learning_rate': 0.02, 'num_leaves': 50, 'verbose': 0, 'colsample_bytree': 0.6, 'subsample': 0.9, 'max_depth': 10, 'reg_alpha': 0.0, 'reg_lambda': 0.0, 'min_split_gain': 0.03, 'min_child_weight': 40}\n",
      "Current Score :  0.7805356228566883\n",
      "----------------------------------------------------------------------------------------\n",
      "Current Parameters :  {'task': 'train', 'boosting_type': 'gbdt', 'objective': 'binary', 'metric': 'auc', 'learning_rate': 0.010682060928238401, 'num_leaves': 50, 'verbose': 0, 'colsample_bytree': 0.602658893353198, 'subsample': 0.8691703538692116, 'max_depth': 10, 'reg_alpha': 0.0024579753029240147, 'reg_lambda': 0.11249834718257222, 'min_split_gain': 0.020670041242721565, 'min_child_weight': 34}\n",
      "Current Score :  0.7751641823961644\n",
      "----------------------------------------------------------------------------------------\n",
      "Current Parameters :  {'task': 'train', 'boosting_type': 'gbdt', 'objective': 'binary', 'metric': 'auc', 'learning_rate': 0.019599922944624024, 'num_leaves': 43, 'verbose': 0, 'colsample_bytree': 0.898986156348381, 'subsample': 0.7948388077857942, 'max_depth': 10, 'reg_alpha': 0.4223854840478166, 'reg_lambda': 0.0035688142353975695, 'min_split_gain': 0.025972169595704454, 'min_child_weight': 9}\n",
      "Current Score :  0.7794444794290384\n",
      "----------------------------------------------------------------------------------------\n",
      "Current Parameters :  {'task': 'train', 'boosting_type': 'gbdt', 'objective': 'binary', 'metric': 'auc', 'learning_rate': 0.019428761202137053, 'num_leaves': 50, 'verbose': 0, 'colsample_bytree': 0.7119897049706579, 'subsample': 0.648518407787954, 'max_depth': 10, 'reg_alpha': 0.00240415061410243, 'reg_lambda': 0.43616761468755244, 'min_split_gain': 0.017684208077511396, 'min_child_weight': 10}\n",
      "Current Score :  0.7806316902244749\n",
      "----------------------------------------------------------------------------------------\n",
      "Current Parameters :  {'task': 'train', 'boosting_type': 'gbdt', 'objective': 'binary', 'metric': 'auc', 'learning_rate': 0.02, 'num_leaves': 50, 'verbose': 0, 'colsample_bytree': 0.6, 'subsample': 0.6, 'max_depth': 10, 'reg_alpha': 0.5, 'reg_lambda': 0.5, 'min_split_gain': 0.01, 'min_child_weight': 40}\n",
      "Current Score :  0.7809180894260954\n",
      "----------------------------------------------------------------------------------------\n",
      "Current Parameters :  {'task': 'train', 'boosting_type': 'gbdt', 'objective': 'binary', 'metric': 'auc', 'learning_rate': 0.019882071804329347, 'num_leaves': 8, 'verbose': 0, 'colsample_bytree': 0.6073222251392641, 'subsample': 0.7178031844215227, 'max_depth': 10, 'reg_alpha': 0.09623976314092883, 'reg_lambda': 0.49107173834916334, 'min_split_gain': 0.010610849054583746, 'min_child_weight': 13}\n"
     ]
    },
    {
     "name": "stdout",
     "output_type": "stream",
     "text": [
      "Current Score :  0.7719643442636994\n",
      "----------------------------------------------------------------------------------------\n",
      "Current Parameters :  {'task': 'train', 'boosting_type': 'gbdt', 'objective': 'binary', 'metric': 'auc', 'learning_rate': 0.01969086651304538, 'num_leaves': 49, 'verbose': 0, 'colsample_bytree': 0.8923098233615788, 'subsample': 0.8775610156669194, 'max_depth': 10, 'reg_alpha': 0.4796513969074332, 'reg_lambda': 0.04558294506546424, 'min_split_gain': 0.013317761460863987, 'min_child_weight': 11}\n",
      "Current Score :  0.7798377921403842\n",
      "----------------------------------------------------------------------------------------\n",
      "Current Parameters :  {'task': 'train', 'boosting_type': 'gbdt', 'objective': 'binary', 'metric': 'auc', 'learning_rate': 0.02, 'num_leaves': 50, 'verbose': 0, 'colsample_bytree': 0.9, 'subsample': 0.9, 'max_depth': 10, 'reg_alpha': 0.5, 'reg_lambda': 0.5, 'min_split_gain': 0.03, 'min_child_weight': 40}\n",
      "Current Score :  0.7800881189414645\n",
      "----------------------------------------------------------------------------------------\n",
      "Current Parameters :  {'task': 'train', 'boosting_type': 'gbdt', 'objective': 'binary', 'metric': 'auc', 'learning_rate': 0.019532581414795507, 'num_leaves': 50, 'verbose': 0, 'colsample_bytree': 0.7754457327818298, 'subsample': 0.7869351863634169, 'max_depth': 3, 'reg_alpha': 0.3997616147622763, 'reg_lambda': 0.4714624695147727, 'min_split_gain': 0.01713437515090597, 'min_child_weight': 8}\n",
      "Current Score :  0.7686225258235326\n",
      "----------------------------------------------------------------------------------------\n",
      "Current Parameters :  {'task': 'train', 'boosting_type': 'gbdt', 'objective': 'binary', 'metric': 'auc', 'learning_rate': 0.010609616733534635, 'num_leaves': 49, 'verbose': 0, 'colsample_bytree': 0.7829752631647897, 'subsample': 0.6308808388051773, 'max_depth': 10, 'reg_alpha': 0.4948943217279132, 'reg_lambda': 0.3530277472509102, 'min_split_gain': 0.02901881369635368, 'min_child_weight': 22}\n",
      "Current Score :  0.7744446773531716\n",
      "----------------------------------------------------------------------------------------\n",
      "Current Parameters :  {'task': 'train', 'boosting_type': 'gbdt', 'objective': 'binary', 'metric': 'auc', 'learning_rate': 0.019483047867379998, 'num_leaves': 44, 'verbose': 0, 'colsample_bytree': 0.6461412133987088, 'subsample': 0.6088777883995291, 'max_depth': 10, 'reg_alpha': 0.4222548748937203, 'reg_lambda': 0.09624656617158148, 'min_split_gain': 0.028458441272908086, 'min_child_weight': 38}\n",
      "Current Score :  0.7805688831614874\n",
      "----------------------------------------------------------------------------------------\n",
      "Current Parameters :  {'task': 'train', 'boosting_type': 'gbdt', 'objective': 'binary', 'metric': 'auc', 'learning_rate': 0.019488008604673077, 'num_leaves': 7, 'verbose': 0, 'colsample_bytree': 0.6642977303979614, 'subsample': 0.6032922557818838, 'max_depth': 10, 'reg_alpha': 0.14835425486745288, 'reg_lambda': 0.020763249817498112, 'min_split_gain': 0.028372769853701504, 'min_child_weight': 35}\n",
      "Current Score :  0.7703855159155244\n",
      "----------------------------------------------------------------------------------------\n",
      "Current Parameters :  {'task': 'train', 'boosting_type': 'gbdt', 'objective': 'binary', 'metric': 'auc', 'learning_rate': 0.019394845659063666, 'num_leaves': 47, 'verbose': 0, 'colsample_bytree': 0.6893912761225152, 'subsample': 0.6017404312990527, 'max_depth': 10, 'reg_alpha': 0.10705516480422825, 'reg_lambda': 0.05335994961447778, 'min_split_gain': 0.012410343490840997, 'min_child_weight': 2}\n",
      "Current Score :  0.7793471586494847\n",
      "----------------------------------------------------------------------------------------\n",
      "Current Parameters :  {'task': 'train', 'boosting_type': 'gbdt', 'objective': 'binary', 'metric': 'auc', 'learning_rate': 0.02, 'num_leaves': 50, 'verbose': 0, 'colsample_bytree': 0.6, 'subsample': 0.9, 'max_depth': 10, 'reg_alpha': 0.5, 'reg_lambda': 0.0, 'min_split_gain': 0.01, 'min_child_weight': 40}\n",
      "Current Score :  0.7812854539998564\n",
      "----------------------------------------------------------------------------------------\n",
      "Current Parameters :  {'task': 'train', 'boosting_type': 'gbdt', 'objective': 'binary', 'metric': 'auc', 'learning_rate': 0.02, 'num_leaves': 50, 'verbose': 0, 'colsample_bytree': 0.9, 'subsample': 0.9, 'max_depth': 10, 'reg_alpha': 0.5, 'reg_lambda': 0.0, 'min_split_gain': 0.01, 'min_child_weight': 40}\n",
      "Current Score :  0.7806925399539008\n",
      "----------------------------------------------------------------------------------------\n",
      "Current Parameters :  {'task': 'train', 'boosting_type': 'gbdt', 'objective': 'binary', 'metric': 'auc', 'learning_rate': 0.010559057753972631, 'num_leaves': 50, 'verbose': 0, 'colsample_bytree': 0.8401176369933396, 'subsample': 0.806259045964411, 'max_depth': 10, 'reg_alpha': 0.04537110270415624, 'reg_lambda': 0.19767001926487293, 'min_split_gain': 0.014961274355304019, 'min_child_weight': 37}\n",
      "Current Score :  0.7747927056262048\n",
      "----------------------------------------------------------------------------------------\n",
      "Current Parameters :  {'task': 'train', 'boosting_type': 'gbdt', 'objective': 'binary', 'metric': 'auc', 'learning_rate': 0.01962139294981258, 'num_leaves': 50, 'verbose': 0, 'colsample_bytree': 0.6040808292059549, 'subsample': 0.8144303471947644, 'max_depth': 9, 'reg_alpha': 0.16042627520433603, 'reg_lambda': 0.14118229523276207, 'min_split_gain': 0.029381955460874645, 'min_child_weight': 2}\n",
      "Current Score :  0.7799117218860154\n",
      "----------------------------------------------------------------------------------------\n",
      "Current Parameters :  {'task': 'train', 'boosting_type': 'gbdt', 'objective': 'binary', 'metric': 'auc', 'learning_rate': 0.010315124026465936, 'num_leaves': 49, 'verbose': 0, 'colsample_bytree': 0.8411442180273705, 'subsample': 0.6449474983887872, 'max_depth': 10, 'reg_alpha': 0.49311636097655304, 'reg_lambda': 0.008001398221647972, 'min_split_gain': 0.010757934158470943, 'min_child_weight': 12}\n",
      "Current Score :  0.7741141681133756\n",
      "----------------------------------------------------------------------------------------\n",
      "Current Parameters :  {'task': 'train', 'boosting_type': 'gbdt', 'objective': 'binary', 'metric': 'auc', 'learning_rate': 0.01920398841000997, 'num_leaves': 49, 'verbose': 0, 'colsample_bytree': 0.6094509465171879, 'subsample': 0.6253665870247619, 'max_depth': 3, 'reg_alpha': 0.227340010742629, 'reg_lambda': 0.07691806532903274, 'min_split_gain': 0.01276080912076028, 'min_child_weight': 21}\n",
      "Current Score :  0.7683014620649612\n",
      "----------------------------------------------------------------------------------------\n",
      "Current Parameters :  {'task': 'train', 'boosting_type': 'gbdt', 'objective': 'binary', 'metric': 'auc', 'learning_rate': 0.018724593479994407, 'num_leaves': 49, 'verbose': 0, 'colsample_bytree': 0.8846479777795957, 'subsample': 0.8206946682458207, 'max_depth': 10, 'reg_alpha': 0.04917778551749065, 'reg_lambda': 0.28165270864457037, 'min_split_gain': 0.028261064435152368, 'min_child_weight': 9}\n",
      "Current Score :  0.7798864812616629\n",
      "----------------------------------------------------------------------------------------\n",
      "Current Parameters :  {'task': 'train', 'boosting_type': 'gbdt', 'objective': 'binary', 'metric': 'auc', 'learning_rate': 0.017141254430828756, 'num_leaves': 49, 'verbose': 0, 'colsample_bytree': 0.821123608371018, 'subsample': 0.8799579326471301, 'max_depth': 10, 'reg_alpha': 0.48267527853038883, 'reg_lambda': 0.46453086297968477, 'min_split_gain': 0.026499404007300352, 'min_child_weight': 5}\n",
      "Current Score :  0.7793199858316346\n",
      "----------------------------------------------------------------------------------------\n",
      "Current Parameters :  {'task': 'train', 'boosting_type': 'gbdt', 'objective': 'binary', 'metric': 'auc', 'learning_rate': 0.01999913286342724, 'num_leaves': 48, 'verbose': 0, 'colsample_bytree': 0.8346725874870601, 'subsample': 0.6015330744794791, 'max_depth': 10, 'reg_alpha': 0.11350759838157123, 'reg_lambda': 0.4215964989862421, 'min_split_gain': 0.02940958595528246, 'min_child_weight': 12}\n",
      "Current Score :  0.7807671448898248\n",
      "----------------------------------------------------------------------------------------\n",
      "Current Parameters :  {'task': 'train', 'boosting_type': 'gbdt', 'objective': 'binary', 'metric': 'auc', 'learning_rate': 0.02, 'num_leaves': 50, 'verbose': 0, 'colsample_bytree': 0.6, 'subsample': 0.9, 'max_depth': 10, 'reg_alpha': 0.5, 'reg_lambda': 0.5, 'min_split_gain': 0.03, 'min_child_weight': 1}\n"
     ]
    },
    {
     "name": "stdout",
     "output_type": "stream",
     "text": [
      "Current Score :  0.7802969933682882\n",
      "----------------------------------------------------------------------------------------\n",
      "Current Parameters :  {'task': 'train', 'boosting_type': 'gbdt', 'objective': 'binary', 'metric': 'auc', 'learning_rate': 0.0197066010892396, 'num_leaves': 5, 'verbose': 0, 'colsample_bytree': 0.8744300325615251, 'subsample': 0.8918752700200847, 'max_depth': 10, 'reg_alpha': 0.3349466999185929, 'reg_lambda': 0.1653244226686212, 'min_split_gain': 0.029730977689066594, 'min_child_weight': 31}\n",
      "Current Score :  0.7669278197370634\n",
      "----------------------------------------------------------------------------------------\n",
      "Current Parameters :  {'task': 'train', 'boosting_type': 'gbdt', 'objective': 'binary', 'metric': 'auc', 'learning_rate': 0.019965607381512124, 'num_leaves': 50, 'verbose': 0, 'colsample_bytree': 0.7572106721608783, 'subsample': 0.681242141107915, 'max_depth': 7, 'reg_alpha': 0.11022776975402535, 'reg_lambda': 0.3628287891574088, 'min_split_gain': 0.01311899139568634, 'min_child_weight': 8}\n",
      "Current Score :  0.778749281236589\n",
      "----------------------------------------------------------------------------------------\n",
      "Current Parameters :  {'task': 'train', 'boosting_type': 'gbdt', 'objective': 'binary', 'metric': 'auc', 'learning_rate': 0.02, 'num_leaves': 50, 'verbose': 0, 'colsample_bytree': 0.9, 'subsample': 0.6, 'max_depth': 10, 'reg_alpha': 0.0, 'reg_lambda': 0.5, 'min_split_gain': 0.01, 'min_child_weight': 40}\n",
      "Current Score :  0.7802355977403277\n",
      "----------------------------------------------------------------------------------------\n",
      "Current Parameters :  {'task': 'train', 'boosting_type': 'gbdt', 'objective': 'binary', 'metric': 'auc', 'learning_rate': 0.02, 'num_leaves': 50, 'verbose': 0, 'colsample_bytree': 0.6, 'subsample': 0.6, 'max_depth': 9, 'reg_alpha': 0.5, 'reg_lambda': 0.5, 'min_split_gain': 0.03, 'min_child_weight': 40}\n",
      "Current Score :  0.7806967527103557\n",
      "----------------------------------------------------------------------------------------\n",
      "Current Parameters :  {'task': 'train', 'boosting_type': 'gbdt', 'objective': 'binary', 'metric': 'auc', 'learning_rate': 0.018972664347902214, 'num_leaves': 6, 'verbose': 0, 'colsample_bytree': 0.8134850770874781, 'subsample': 0.7469907491968654, 'max_depth': 3, 'reg_alpha': 0.48614918557093223, 'reg_lambda': 0.4869766671344762, 'min_split_gain': 0.010961112748597597, 'min_child_weight': 19}\n",
      "Current Score :  0.766689233345916\n",
      "----------------------------------------------------------------------------------------\n",
      "Current Parameters :  {'task': 'train', 'boosting_type': 'gbdt', 'objective': 'binary', 'metric': 'auc', 'learning_rate': 0.019900528589035082, 'num_leaves': 45, 'verbose': 0, 'colsample_bytree': 0.6177248647202261, 'subsample': 0.8920698010398618, 'max_depth': 8, 'reg_alpha': 0.22336577367182925, 'reg_lambda': 0.4751123640950288, 'min_split_gain': 0.012593418834399189, 'min_child_weight': 32}\n",
      "Current Score :  0.7804503549421499\n",
      "----------------------------------------------------------------------------------------\n",
      "Current Parameters :  {'task': 'train', 'boosting_type': 'gbdt', 'objective': 'binary', 'metric': 'auc', 'learning_rate': 0.019771753270279246, 'num_leaves': 48, 'verbose': 0, 'colsample_bytree': 0.8738190481224584, 'subsample': 0.6068647542732312, 'max_depth': 8, 'reg_alpha': 0.4863317711254173, 'reg_lambda': 0.07365746597030677, 'min_split_gain': 0.02853692033082752, 'min_child_weight': 11}\n",
      "Current Score :  0.7794785298501377\n",
      "----------------------------------------------------------------------------------------\n",
      "Current Parameters :  {'task': 'train', 'boosting_type': 'gbdt', 'objective': 'binary', 'metric': 'auc', 'learning_rate': 0.02, 'num_leaves': 50, 'verbose': 0, 'colsample_bytree': 0.6, 'subsample': 0.9, 'max_depth': 10, 'reg_alpha': 0.5, 'reg_lambda': 0.5, 'min_split_gain': 0.01, 'min_child_weight': 1}\n",
      "Current Score :  0.7803462535281654\n",
      "----------------------------------------------------------------------------------------\n",
      "Current Parameters :  {'task': 'train', 'boosting_type': 'gbdt', 'objective': 'binary', 'metric': 'auc', 'learning_rate': 0.01982873662409406, 'num_leaves': 46, 'verbose': 0, 'colsample_bytree': 0.6352818298505697, 'subsample': 0.8948814615943097, 'max_depth': 8, 'reg_alpha': 0.04703433911113171, 'reg_lambda': 0.0552826161711696, 'min_split_gain': 0.013147770638685559, 'min_child_weight': 7}\n",
      "Current Score :  0.7799808426965288\n",
      "----------------------------------------------------------------------------------------\n",
      "Current Parameters :  {'task': 'train', 'boosting_type': 'gbdt', 'objective': 'binary', 'metric': 'auc', 'learning_rate': 0.01979606995801532, 'num_leaves': 50, 'verbose': 0, 'colsample_bytree': 0.7405987173080665, 'subsample': 0.7472875995955552, 'max_depth': 7, 'reg_alpha': 0.06614919402050214, 'reg_lambda': 0.07497668803328623, 'min_split_gain': 0.02996576341295286, 'min_child_weight': 23}\n",
      "Current Score :  0.7790955640708862\n",
      "----------------------------------------------------------------------------------------\n",
      "Current Parameters :  {'task': 'train', 'boosting_type': 'gbdt', 'objective': 'binary', 'metric': 'auc', 'learning_rate': 0.019872090247563208, 'num_leaves': 49, 'verbose': 0, 'colsample_bytree': 0.6003063936055495, 'subsample': 0.6307467862079842, 'max_depth': 8, 'reg_alpha': 0.4495318857202509, 'reg_lambda': 0.2723701342503135, 'min_split_gain': 0.013892697784285975, 'min_child_weight': 36}\n",
      "Current Score :  0.7802369373466003\n",
      "----------------------------------------------------------------------------------------\n",
      "Current Parameters :  {'task': 'train', 'boosting_type': 'gbdt', 'objective': 'binary', 'metric': 'auc', 'learning_rate': 0.019929707356099117, 'num_leaves': 48, 'verbose': 0, 'colsample_bytree': 0.6170797734581098, 'subsample': 0.8862166427042291, 'max_depth': 7, 'reg_alpha': 0.13815062486377097, 'reg_lambda': 0.48418229929408624, 'min_split_gain': 0.019497272975348895, 'min_child_weight': 36}\n",
      "Current Score :  0.7800565968925258\n",
      "----------------------------------------------------------------------------------------\n",
      "Current Parameters :  {'task': 'train', 'boosting_type': 'gbdt', 'objective': 'binary', 'metric': 'auc', 'learning_rate': 0.019592795907544213, 'num_leaves': 48, 'verbose': 0, 'colsample_bytree': 0.8932780214638858, 'subsample': 0.8631488157382199, 'max_depth': 8, 'reg_alpha': 0.07061584115265886, 'reg_lambda': 0.09737899137779646, 'min_split_gain': 0.02224181104448098, 'min_child_weight': 37}\n",
      "Current Score :  0.7799954562566439\n",
      "----------------------------------------------------------------------------------------\n",
      "Current Parameters :  {'task': 'train', 'boosting_type': 'gbdt', 'objective': 'binary', 'metric': 'auc', 'learning_rate': 0.02, 'num_leaves': 50, 'verbose': 0, 'colsample_bytree': 0.9, 'subsample': 0.6, 'max_depth': 9, 'reg_alpha': 0.5, 'reg_lambda': 0.5, 'min_split_gain': 0.01, 'min_child_weight': 40}\n",
      "Current Score :  0.7799871456697415\n",
      "----------------------------------------------------------------------------------------\n",
      "Current Parameters :  {'task': 'train', 'boosting_type': 'gbdt', 'objective': 'binary', 'metric': 'auc', 'learning_rate': 0.019969874129132828, 'num_leaves': 8, 'verbose': 0, 'colsample_bytree': 0.6538465090774922, 'subsample': 0.6149226175680691, 'max_depth': 6, 'reg_alpha': 0.18366023671323708, 'reg_lambda': 0.040599492048526815, 'min_split_gain': 0.010382489135289137, 'min_child_weight': 8}\n",
      "Current Score :  0.77214592376379\n",
      "----------------------------------------------------------------------------------------\n",
      "Current Parameters :  {'task': 'train', 'boosting_type': 'gbdt', 'objective': 'binary', 'metric': 'auc', 'learning_rate': 0.010579508134148164, 'num_leaves': 50, 'verbose': 0, 'colsample_bytree': 0.6074191934032473, 'subsample': 0.7381326097494494, 'max_depth': 6, 'reg_alpha': 0.46139120427204816, 'reg_lambda': 0.08011201637949651, 'min_split_gain': 0.012972430623925604, 'min_child_weight': 1}\n",
      "Current Score :  0.7719635577388368\n"
     ]
    }
   ],
   "source": [
    "result_gp = gp_minimize(objective_func, space, n_calls=50, random_state=0, n_random_starts=10)"
   ]
  },
  {
   "cell_type": "code",
   "execution_count": 26,
   "metadata": {},
   "outputs": [
    {
     "data": {
      "text/plain": [
       "-0.7812854539998564"
      ]
     },
     "execution_count": 26,
     "metadata": {},
     "output_type": "execute_result"
    }
   ],
   "source": [
    "print('Highest roc score :'result_gp.fun)"
   ]
  },
  {
   "cell_type": "markdown",
   "metadata": {},
   "source": [
    "# Model Tuning For Random Forrest"
   ]
  },
  {
   "cell_type": "code",
   "execution_count": 14,
   "metadata": {},
   "outputs": [],
   "source": [
    "from sklearn.ensemble import RandomForestClassifier"
   ]
  },
  {
   "cell_type": "markdown",
   "metadata": {},
   "source": [
    "Defining Search Space"
   ]
  },
  {
   "cell_type": "code",
   "execution_count": 40,
   "metadata": {},
   "outputs": [],
   "source": [
    "space2  = [Integer(3, 10, name='max_depth'),\n",
    "           Integer(2, 6, name='min_samples_leaf'),\n",
    "           Real(0.1, 0.3, name='max_features')\n",
    "         ]"
   ]
  },
  {
   "cell_type": "markdown",
   "metadata": {},
   "source": [
    "Defining Objective Function to minimize"
   ]
  },
  {
   "cell_type": "code",
   "execution_count": 42,
   "metadata": {},
   "outputs": [],
   "source": [
    "def objective_func2(values):\n",
    "    model = RandomForestClassifier(n_estimators=100, min_samples_leaf= values[1], n_jobs=-1, \n",
    "                                   random_state= 42, max_depth= values[0], max_features= values[2])\n",
    "    print('----------------------------------------------------------------------------------------')\n",
    "    print('Current Parameters : ')\n",
    "    print('n_estimators : 100')\n",
    "    print('max_depth', values[0])\n",
    "    print('min_sample_leaf', values[1])\n",
    "    print('max_features', values[2])\n",
    "    model.fit(X_train, y_train)\n",
    "    predictions = model.predict(X_test)\n",
    "    auc = -roc_auc_score(y_test, predictions)\n",
    "    print('Current Score : ', -auc)\n",
    "    gc.collect()\n",
    "    return auc"
   ]
  },
  {
   "cell_type": "markdown",
   "metadata": {},
   "source": [
    "Running Optimization Algorithm"
   ]
  },
  {
   "cell_type": "code",
   "execution_count": 43,
   "metadata": {},
   "outputs": [
    {
     "name": "stdout",
     "output_type": "stream",
     "text": [
      "----------------------------------------------------------------------------------------\n",
      "Current Parameters : \n",
      "n_estimators : 100\n",
      "max_depth 7\n",
      "min_sample_leaf 5\n",
      "max_features 0.2715891235245514\n",
      "Current Score :  0.5\n",
      "----------------------------------------------------------------------------------------\n",
      "Current Parameters : \n",
      "n_estimators : 100\n",
      "max_depth 9\n",
      "min_sample_leaf 4\n",
      "max_features 0.17687634145853998\n",
      "Current Score :  0.5\n",
      "----------------------------------------------------------------------------------------\n",
      "Current Parameters : \n",
      "n_estimators : 100\n",
      "max_depth 5\n",
      "min_sample_leaf 2\n",
      "max_features 0.15453125891602265\n",
      "Current Score :  0.5\n",
      "----------------------------------------------------------------------------------------\n",
      "Current Parameters : \n",
      "n_estimators : 100\n",
      "max_depth 6\n",
      "min_sample_leaf 5\n",
      "max_features 0.1959954344750115\n",
      "Current Score :  0.5\n",
      "----------------------------------------------------------------------------------------\n",
      "Current Parameters : \n",
      "n_estimators : 100\n",
      "max_depth 6\n",
      "min_sample_leaf 5\n",
      "max_features 0.1674792320834537\n",
      "Current Score :  0.5\n",
      "----------------------------------------------------------------------------------------\n",
      "Current Parameters : \n",
      "n_estimators : 100\n",
      "max_depth 8\n",
      "min_sample_leaf 3\n",
      "max_features 0.2914310317906093\n",
      "Current Score :  0.5001016053647632\n",
      "----------------------------------------------------------------------------------------\n",
      "Current Parameters : \n",
      "n_estimators : 100\n",
      "max_depth 4\n",
      "min_sample_leaf 5\n",
      "max_features 0.19472160905474212\n",
      "Current Score :  0.5\n",
      "----------------------------------------------------------------------------------------\n",
      "Current Parameters : \n",
      "n_estimators : 100\n",
      "max_depth 9\n",
      "min_sample_leaf 4\n",
      "max_features 0.2357759060237921\n"
     ]
    },
    {
     "ename": "KeyboardInterrupt",
     "evalue": "",
     "output_type": "error",
     "traceback": [
      "\u001b[0;31m---------------------------------------------------------------------------\u001b[0m",
      "\u001b[0;31mKeyboardInterrupt\u001b[0m                         Traceback (most recent call last)",
      "\u001b[0;32m<ipython-input-43-6466675f9adb>\u001b[0m in \u001b[0;36m<module>\u001b[0;34m\u001b[0m\n\u001b[0;32m----> 1\u001b[0;31m \u001b[0mresult_gp\u001b[0m \u001b[0;34m=\u001b[0m \u001b[0mgp_minimize\u001b[0m\u001b[0;34m(\u001b[0m\u001b[0mobjective_func2\u001b[0m\u001b[0;34m,\u001b[0m \u001b[0mspace2\u001b[0m\u001b[0;34m,\u001b[0m \u001b[0mn_calls\u001b[0m\u001b[0;34m=\u001b[0m\u001b[0;36m50\u001b[0m\u001b[0;34m,\u001b[0m \u001b[0mrandom_state\u001b[0m\u001b[0;34m=\u001b[0m\u001b[0;36m0\u001b[0m\u001b[0;34m,\u001b[0m \u001b[0mn_random_starts\u001b[0m\u001b[0;34m=\u001b[0m\u001b[0;36m10\u001b[0m\u001b[0;34m)\u001b[0m\u001b[0;34m\u001b[0m\u001b[0;34m\u001b[0m\u001b[0m\n\u001b[0m",
      "\u001b[0;32m~/.local/lib/python3.6/site-packages/skopt/optimizer/gp.py\u001b[0m in \u001b[0;36mgp_minimize\u001b[0;34m(func, dimensions, base_estimator, n_calls, n_random_starts, acq_func, acq_optimizer, x0, y0, random_state, verbose, callback, n_points, n_restarts_optimizer, xi, kappa, noise, n_jobs)\u001b[0m\n\u001b[1;32m    226\u001b[0m         \u001b[0mn_restarts_optimizer\u001b[0m\u001b[0;34m=\u001b[0m\u001b[0mn_restarts_optimizer\u001b[0m\u001b[0;34m,\u001b[0m\u001b[0;34m\u001b[0m\u001b[0;34m\u001b[0m\u001b[0m\n\u001b[1;32m    227\u001b[0m         \u001b[0mx0\u001b[0m\u001b[0;34m=\u001b[0m\u001b[0mx0\u001b[0m\u001b[0;34m,\u001b[0m \u001b[0my0\u001b[0m\u001b[0;34m=\u001b[0m\u001b[0my0\u001b[0m\u001b[0;34m,\u001b[0m \u001b[0mrandom_state\u001b[0m\u001b[0;34m=\u001b[0m\u001b[0mrng\u001b[0m\u001b[0;34m,\u001b[0m \u001b[0mverbose\u001b[0m\u001b[0;34m=\u001b[0m\u001b[0mverbose\u001b[0m\u001b[0;34m,\u001b[0m\u001b[0;34m\u001b[0m\u001b[0;34m\u001b[0m\u001b[0m\n\u001b[0;32m--> 228\u001b[0;31m         callback=callback, n_jobs=n_jobs)\n\u001b[0m",
      "\u001b[0;32m~/.local/lib/python3.6/site-packages/skopt/optimizer/base.py\u001b[0m in \u001b[0;36mbase_minimize\u001b[0;34m(func, dimensions, base_estimator, n_calls, n_random_starts, acq_func, acq_optimizer, x0, y0, random_state, verbose, callback, n_points, n_restarts_optimizer, xi, kappa, n_jobs)\u001b[0m\n\u001b[1;32m    246\u001b[0m     \u001b[0;32mfor\u001b[0m \u001b[0mn\u001b[0m \u001b[0;32min\u001b[0m \u001b[0mrange\u001b[0m\u001b[0;34m(\u001b[0m\u001b[0mn_calls\u001b[0m\u001b[0;34m)\u001b[0m\u001b[0;34m:\u001b[0m\u001b[0;34m\u001b[0m\u001b[0;34m\u001b[0m\u001b[0m\n\u001b[1;32m    247\u001b[0m         \u001b[0mnext_x\u001b[0m \u001b[0;34m=\u001b[0m \u001b[0moptimizer\u001b[0m\u001b[0;34m.\u001b[0m\u001b[0mask\u001b[0m\u001b[0;34m(\u001b[0m\u001b[0;34m)\u001b[0m\u001b[0;34m\u001b[0m\u001b[0;34m\u001b[0m\u001b[0m\n\u001b[0;32m--> 248\u001b[0;31m         \u001b[0mnext_y\u001b[0m \u001b[0;34m=\u001b[0m \u001b[0mfunc\u001b[0m\u001b[0;34m(\u001b[0m\u001b[0mnext_x\u001b[0m\u001b[0;34m)\u001b[0m\u001b[0;34m\u001b[0m\u001b[0;34m\u001b[0m\u001b[0m\n\u001b[0m\u001b[1;32m    249\u001b[0m         \u001b[0mresult\u001b[0m \u001b[0;34m=\u001b[0m \u001b[0moptimizer\u001b[0m\u001b[0;34m.\u001b[0m\u001b[0mtell\u001b[0m\u001b[0;34m(\u001b[0m\u001b[0mnext_x\u001b[0m\u001b[0;34m,\u001b[0m \u001b[0mnext_y\u001b[0m\u001b[0;34m)\u001b[0m\u001b[0;34m\u001b[0m\u001b[0;34m\u001b[0m\u001b[0m\n\u001b[1;32m    250\u001b[0m         \u001b[0mresult\u001b[0m\u001b[0;34m.\u001b[0m\u001b[0mspecs\u001b[0m \u001b[0;34m=\u001b[0m \u001b[0mspecs\u001b[0m\u001b[0;34m\u001b[0m\u001b[0;34m\u001b[0m\u001b[0m\n",
      "\u001b[0;32m<ipython-input-42-1acf13a2fe57>\u001b[0m in \u001b[0;36mobjective_func2\u001b[0;34m(values)\u001b[0m\n\u001b[1;32m      8\u001b[0m     \u001b[0mprint\u001b[0m\u001b[0;34m(\u001b[0m\u001b[0;34m'min_sample_leaf'\u001b[0m\u001b[0;34m,\u001b[0m \u001b[0mvalues\u001b[0m\u001b[0;34m[\u001b[0m\u001b[0;36m1\u001b[0m\u001b[0;34m]\u001b[0m\u001b[0;34m)\u001b[0m\u001b[0;34m\u001b[0m\u001b[0;34m\u001b[0m\u001b[0m\n\u001b[1;32m      9\u001b[0m     \u001b[0mprint\u001b[0m\u001b[0;34m(\u001b[0m\u001b[0;34m'max_features'\u001b[0m\u001b[0;34m,\u001b[0m \u001b[0mvalues\u001b[0m\u001b[0;34m[\u001b[0m\u001b[0;36m2\u001b[0m\u001b[0;34m]\u001b[0m\u001b[0;34m)\u001b[0m\u001b[0;34m\u001b[0m\u001b[0;34m\u001b[0m\u001b[0m\n\u001b[0;32m---> 10\u001b[0;31m     \u001b[0mmodel\u001b[0m\u001b[0;34m.\u001b[0m\u001b[0mfit\u001b[0m\u001b[0;34m(\u001b[0m\u001b[0mX_train\u001b[0m\u001b[0;34m,\u001b[0m \u001b[0my_train\u001b[0m\u001b[0;34m)\u001b[0m\u001b[0;34m\u001b[0m\u001b[0;34m\u001b[0m\u001b[0m\n\u001b[0m\u001b[1;32m     11\u001b[0m     \u001b[0mpredictions\u001b[0m \u001b[0;34m=\u001b[0m \u001b[0mmodel\u001b[0m\u001b[0;34m.\u001b[0m\u001b[0mpredict\u001b[0m\u001b[0;34m(\u001b[0m\u001b[0mX_test\u001b[0m\u001b[0;34m)\u001b[0m\u001b[0;34m\u001b[0m\u001b[0;34m\u001b[0m\u001b[0m\n\u001b[1;32m     12\u001b[0m     \u001b[0mauc\u001b[0m \u001b[0;34m=\u001b[0m \u001b[0;34m-\u001b[0m\u001b[0mroc_auc_score\u001b[0m\u001b[0;34m(\u001b[0m\u001b[0my_test\u001b[0m\u001b[0;34m,\u001b[0m \u001b[0mpredictions\u001b[0m\u001b[0;34m)\u001b[0m\u001b[0;34m\u001b[0m\u001b[0;34m\u001b[0m\u001b[0m\n",
      "\u001b[0;32m~/.local/lib/python3.6/site-packages/sklearn/ensemble/forest.py\u001b[0m in \u001b[0;36mfit\u001b[0;34m(self, X, y, sample_weight)\u001b[0m\n\u001b[1;32m    331\u001b[0m                     \u001b[0mt\u001b[0m\u001b[0;34m,\u001b[0m \u001b[0mself\u001b[0m\u001b[0;34m,\u001b[0m \u001b[0mX\u001b[0m\u001b[0;34m,\u001b[0m \u001b[0my\u001b[0m\u001b[0;34m,\u001b[0m \u001b[0msample_weight\u001b[0m\u001b[0;34m,\u001b[0m \u001b[0mi\u001b[0m\u001b[0;34m,\u001b[0m \u001b[0mlen\u001b[0m\u001b[0;34m(\u001b[0m\u001b[0mtrees\u001b[0m\u001b[0;34m)\u001b[0m\u001b[0;34m,\u001b[0m\u001b[0;34m\u001b[0m\u001b[0;34m\u001b[0m\u001b[0m\n\u001b[1;32m    332\u001b[0m                     verbose=self.verbose, class_weight=self.class_weight)\n\u001b[0;32m--> 333\u001b[0;31m                 for i, t in enumerate(trees))\n\u001b[0m\u001b[1;32m    334\u001b[0m \u001b[0;34m\u001b[0m\u001b[0m\n\u001b[1;32m    335\u001b[0m             \u001b[0;31m# Collect newly grown trees\u001b[0m\u001b[0;34m\u001b[0m\u001b[0;34m\u001b[0m\u001b[0;34m\u001b[0m\u001b[0m\n",
      "\u001b[0;32m~/.local/lib/python3.6/site-packages/sklearn/externals/joblib/parallel.py\u001b[0m in \u001b[0;36m__call__\u001b[0;34m(self, iterable)\u001b[0m\n\u001b[1;32m    928\u001b[0m \u001b[0;34m\u001b[0m\u001b[0m\n\u001b[1;32m    929\u001b[0m             \u001b[0;32mwith\u001b[0m \u001b[0mself\u001b[0m\u001b[0;34m.\u001b[0m\u001b[0m_backend\u001b[0m\u001b[0;34m.\u001b[0m\u001b[0mretrieval_context\u001b[0m\u001b[0;34m(\u001b[0m\u001b[0;34m)\u001b[0m\u001b[0;34m:\u001b[0m\u001b[0;34m\u001b[0m\u001b[0;34m\u001b[0m\u001b[0m\n\u001b[0;32m--> 930\u001b[0;31m                 \u001b[0mself\u001b[0m\u001b[0;34m.\u001b[0m\u001b[0mretrieve\u001b[0m\u001b[0;34m(\u001b[0m\u001b[0;34m)\u001b[0m\u001b[0;34m\u001b[0m\u001b[0;34m\u001b[0m\u001b[0m\n\u001b[0m\u001b[1;32m    931\u001b[0m             \u001b[0;31m# Make sure that we get a last message telling us we are done\u001b[0m\u001b[0;34m\u001b[0m\u001b[0;34m\u001b[0m\u001b[0;34m\u001b[0m\u001b[0m\n\u001b[1;32m    932\u001b[0m             \u001b[0melapsed_time\u001b[0m \u001b[0;34m=\u001b[0m \u001b[0mtime\u001b[0m\u001b[0;34m.\u001b[0m\u001b[0mtime\u001b[0m\u001b[0;34m(\u001b[0m\u001b[0;34m)\u001b[0m \u001b[0;34m-\u001b[0m \u001b[0mself\u001b[0m\u001b[0;34m.\u001b[0m\u001b[0m_start_time\u001b[0m\u001b[0;34m\u001b[0m\u001b[0;34m\u001b[0m\u001b[0m\n",
      "\u001b[0;32m~/.local/lib/python3.6/site-packages/sklearn/externals/joblib/parallel.py\u001b[0m in \u001b[0;36mretrieve\u001b[0;34m(self)\u001b[0m\n\u001b[1;32m    831\u001b[0m             \u001b[0;32mtry\u001b[0m\u001b[0;34m:\u001b[0m\u001b[0;34m\u001b[0m\u001b[0;34m\u001b[0m\u001b[0m\n\u001b[1;32m    832\u001b[0m                 \u001b[0;32mif\u001b[0m \u001b[0mgetattr\u001b[0m\u001b[0;34m(\u001b[0m\u001b[0mself\u001b[0m\u001b[0;34m.\u001b[0m\u001b[0m_backend\u001b[0m\u001b[0;34m,\u001b[0m \u001b[0;34m'supports_timeout'\u001b[0m\u001b[0;34m,\u001b[0m \u001b[0;32mFalse\u001b[0m\u001b[0;34m)\u001b[0m\u001b[0;34m:\u001b[0m\u001b[0;34m\u001b[0m\u001b[0;34m\u001b[0m\u001b[0m\n\u001b[0;32m--> 833\u001b[0;31m                     \u001b[0mself\u001b[0m\u001b[0;34m.\u001b[0m\u001b[0m_output\u001b[0m\u001b[0;34m.\u001b[0m\u001b[0mextend\u001b[0m\u001b[0;34m(\u001b[0m\u001b[0mjob\u001b[0m\u001b[0;34m.\u001b[0m\u001b[0mget\u001b[0m\u001b[0;34m(\u001b[0m\u001b[0mtimeout\u001b[0m\u001b[0;34m=\u001b[0m\u001b[0mself\u001b[0m\u001b[0;34m.\u001b[0m\u001b[0mtimeout\u001b[0m\u001b[0;34m)\u001b[0m\u001b[0;34m)\u001b[0m\u001b[0;34m\u001b[0m\u001b[0;34m\u001b[0m\u001b[0m\n\u001b[0m\u001b[1;32m    834\u001b[0m                 \u001b[0;32melse\u001b[0m\u001b[0;34m:\u001b[0m\u001b[0;34m\u001b[0m\u001b[0;34m\u001b[0m\u001b[0m\n\u001b[1;32m    835\u001b[0m                     \u001b[0mself\u001b[0m\u001b[0;34m.\u001b[0m\u001b[0m_output\u001b[0m\u001b[0;34m.\u001b[0m\u001b[0mextend\u001b[0m\u001b[0;34m(\u001b[0m\u001b[0mjob\u001b[0m\u001b[0;34m.\u001b[0m\u001b[0mget\u001b[0m\u001b[0;34m(\u001b[0m\u001b[0;34m)\u001b[0m\u001b[0;34m)\u001b[0m\u001b[0;34m\u001b[0m\u001b[0;34m\u001b[0m\u001b[0m\n",
      "\u001b[0;32m/usr/lib/python3.6/multiprocessing/pool.py\u001b[0m in \u001b[0;36mget\u001b[0;34m(self, timeout)\u001b[0m\n\u001b[1;32m    662\u001b[0m \u001b[0;34m\u001b[0m\u001b[0m\n\u001b[1;32m    663\u001b[0m     \u001b[0;32mdef\u001b[0m \u001b[0mget\u001b[0m\u001b[0;34m(\u001b[0m\u001b[0mself\u001b[0m\u001b[0;34m,\u001b[0m \u001b[0mtimeout\u001b[0m\u001b[0;34m=\u001b[0m\u001b[0;32mNone\u001b[0m\u001b[0;34m)\u001b[0m\u001b[0;34m:\u001b[0m\u001b[0;34m\u001b[0m\u001b[0;34m\u001b[0m\u001b[0m\n\u001b[0;32m--> 664\u001b[0;31m         \u001b[0mself\u001b[0m\u001b[0;34m.\u001b[0m\u001b[0mwait\u001b[0m\u001b[0;34m(\u001b[0m\u001b[0mtimeout\u001b[0m\u001b[0;34m)\u001b[0m\u001b[0;34m\u001b[0m\u001b[0;34m\u001b[0m\u001b[0m\n\u001b[0m\u001b[1;32m    665\u001b[0m         \u001b[0;32mif\u001b[0m \u001b[0;32mnot\u001b[0m \u001b[0mself\u001b[0m\u001b[0;34m.\u001b[0m\u001b[0mready\u001b[0m\u001b[0;34m(\u001b[0m\u001b[0;34m)\u001b[0m\u001b[0;34m:\u001b[0m\u001b[0;34m\u001b[0m\u001b[0;34m\u001b[0m\u001b[0m\n\u001b[1;32m    666\u001b[0m             \u001b[0;32mraise\u001b[0m \u001b[0mTimeoutError\u001b[0m\u001b[0;34m\u001b[0m\u001b[0;34m\u001b[0m\u001b[0m\n",
      "\u001b[0;32m/usr/lib/python3.6/multiprocessing/pool.py\u001b[0m in \u001b[0;36mwait\u001b[0;34m(self, timeout)\u001b[0m\n\u001b[1;32m    659\u001b[0m \u001b[0;34m\u001b[0m\u001b[0m\n\u001b[1;32m    660\u001b[0m     \u001b[0;32mdef\u001b[0m \u001b[0mwait\u001b[0m\u001b[0;34m(\u001b[0m\u001b[0mself\u001b[0m\u001b[0;34m,\u001b[0m \u001b[0mtimeout\u001b[0m\u001b[0;34m=\u001b[0m\u001b[0;32mNone\u001b[0m\u001b[0;34m)\u001b[0m\u001b[0;34m:\u001b[0m\u001b[0;34m\u001b[0m\u001b[0;34m\u001b[0m\u001b[0m\n\u001b[0;32m--> 661\u001b[0;31m         \u001b[0mself\u001b[0m\u001b[0;34m.\u001b[0m\u001b[0m_event\u001b[0m\u001b[0;34m.\u001b[0m\u001b[0mwait\u001b[0m\u001b[0;34m(\u001b[0m\u001b[0mtimeout\u001b[0m\u001b[0;34m)\u001b[0m\u001b[0;34m\u001b[0m\u001b[0;34m\u001b[0m\u001b[0m\n\u001b[0m\u001b[1;32m    662\u001b[0m \u001b[0;34m\u001b[0m\u001b[0m\n\u001b[1;32m    663\u001b[0m     \u001b[0;32mdef\u001b[0m \u001b[0mget\u001b[0m\u001b[0;34m(\u001b[0m\u001b[0mself\u001b[0m\u001b[0;34m,\u001b[0m \u001b[0mtimeout\u001b[0m\u001b[0;34m=\u001b[0m\u001b[0;32mNone\u001b[0m\u001b[0;34m)\u001b[0m\u001b[0;34m:\u001b[0m\u001b[0;34m\u001b[0m\u001b[0;34m\u001b[0m\u001b[0m\n",
      "\u001b[0;32m/usr/lib/python3.6/threading.py\u001b[0m in \u001b[0;36mwait\u001b[0;34m(self, timeout)\u001b[0m\n\u001b[1;32m    549\u001b[0m             \u001b[0msignaled\u001b[0m \u001b[0;34m=\u001b[0m \u001b[0mself\u001b[0m\u001b[0;34m.\u001b[0m\u001b[0m_flag\u001b[0m\u001b[0;34m\u001b[0m\u001b[0;34m\u001b[0m\u001b[0m\n\u001b[1;32m    550\u001b[0m             \u001b[0;32mif\u001b[0m \u001b[0;32mnot\u001b[0m \u001b[0msignaled\u001b[0m\u001b[0;34m:\u001b[0m\u001b[0;34m\u001b[0m\u001b[0;34m\u001b[0m\u001b[0m\n\u001b[0;32m--> 551\u001b[0;31m                 \u001b[0msignaled\u001b[0m \u001b[0;34m=\u001b[0m \u001b[0mself\u001b[0m\u001b[0;34m.\u001b[0m\u001b[0m_cond\u001b[0m\u001b[0;34m.\u001b[0m\u001b[0mwait\u001b[0m\u001b[0;34m(\u001b[0m\u001b[0mtimeout\u001b[0m\u001b[0;34m)\u001b[0m\u001b[0;34m\u001b[0m\u001b[0;34m\u001b[0m\u001b[0m\n\u001b[0m\u001b[1;32m    552\u001b[0m             \u001b[0;32mreturn\u001b[0m \u001b[0msignaled\u001b[0m\u001b[0;34m\u001b[0m\u001b[0;34m\u001b[0m\u001b[0m\n\u001b[1;32m    553\u001b[0m \u001b[0;34m\u001b[0m\u001b[0m\n",
      "\u001b[0;32m/usr/lib/python3.6/threading.py\u001b[0m in \u001b[0;36mwait\u001b[0;34m(self, timeout)\u001b[0m\n\u001b[1;32m    293\u001b[0m         \u001b[0;32mtry\u001b[0m\u001b[0;34m:\u001b[0m    \u001b[0;31m# restore state no matter what (e.g., KeyboardInterrupt)\u001b[0m\u001b[0;34m\u001b[0m\u001b[0;34m\u001b[0m\u001b[0m\n\u001b[1;32m    294\u001b[0m             \u001b[0;32mif\u001b[0m \u001b[0mtimeout\u001b[0m \u001b[0;32mis\u001b[0m \u001b[0;32mNone\u001b[0m\u001b[0;34m:\u001b[0m\u001b[0;34m\u001b[0m\u001b[0;34m\u001b[0m\u001b[0m\n\u001b[0;32m--> 295\u001b[0;31m                 \u001b[0mwaiter\u001b[0m\u001b[0;34m.\u001b[0m\u001b[0macquire\u001b[0m\u001b[0;34m(\u001b[0m\u001b[0;34m)\u001b[0m\u001b[0;34m\u001b[0m\u001b[0;34m\u001b[0m\u001b[0m\n\u001b[0m\u001b[1;32m    296\u001b[0m                 \u001b[0mgotit\u001b[0m \u001b[0;34m=\u001b[0m \u001b[0;32mTrue\u001b[0m\u001b[0;34m\u001b[0m\u001b[0;34m\u001b[0m\u001b[0m\n\u001b[1;32m    297\u001b[0m             \u001b[0;32melse\u001b[0m\u001b[0;34m:\u001b[0m\u001b[0;34m\u001b[0m\u001b[0;34m\u001b[0m\u001b[0m\n",
      "\u001b[0;31mKeyboardInterrupt\u001b[0m: "
     ]
    }
   ],
   "source": [
    "result_gp = gp_minimize(objective_func2, space2, n_calls=50, random_state=0, n_random_starts=10)"
   ]
  },
  {
   "cell_type": "markdown",
   "metadata": {},
   "source": [
    "# Model Tuning for Decision Tree"
   ]
  },
  {
   "cell_type": "code",
   "execution_count": 11,
   "metadata": {},
   "outputs": [],
   "source": [
    "from sklearn.tree import DecisionTreeClassifier"
   ]
  },
  {
   "cell_type": "markdown",
   "metadata": {},
   "source": [
    "Defining the search space"
   ]
  },
  {
   "cell_type": "code",
   "execution_count": 21,
   "metadata": {},
   "outputs": [],
   "source": [
    "space3  = [Integer(1, 40, name='max_depth'),\n",
    "           Real(0.1, 0.5, name='min_samples_leaf'),\n",
    "           Real(0.1, 1.0, name='min_samples_splits')\n",
    "         ]"
   ]
  },
  {
   "cell_type": "markdown",
   "metadata": {},
   "source": [
    "Defining the Optimization Function"
   ]
  },
  {
   "cell_type": "code",
   "execution_count": 22,
   "metadata": {},
   "outputs": [],
   "source": [
    "def objective_func3(values):\n",
    "    model = DecisionTreeClassifier(criterion='gini', max_depth= values[0], min_samples_leaf= values[1], \n",
    "                                   min_samples_split= values[2])\n",
    "    print('----------------------------------------------------------------------------------------')\n",
    "    print('Current Parameters : ')\n",
    "    print('max_depth', values[0])\n",
    "    print('min_samples_leaf', values[1])\n",
    "    print('min_samples_split', values[2])\n",
    "    model.fit(X_train, y_train)\n",
    "    predictions = model.predict(X_test)\n",
    "    auc = - roc_auc_score(y_test, predictions)\n",
    "    print('Current Score : ', -auc)\n",
    "    gc.collect()\n",
    "    return auc"
   ]
  },
  {
   "cell_type": "code",
   "execution_count": 23,
   "metadata": {},
   "outputs": [
    {
     "name": "stdout",
     "output_type": "stream",
     "text": [
      "----------------------------------------------------------------------------------------\n",
      "Current Parameters : \n",
      "max_depth 24\n",
      "min_samples_leaf 0.437706299432407\n",
      "min_samples_split 0.8721510558604813\n",
      "Current Score :  0.5\n",
      "----------------------------------------------------------------------------------------\n",
      "Current Parameters : \n",
      "max_depth 34\n",
      "min_samples_leaf 0.349425478714389\n",
      "min_samples_split 0.44594353656343\n",
      "Current Score :  0.5\n",
      "----------------------------------------------------------------------------------------\n",
      "Current Parameters : \n",
      "max_depth 13\n",
      "min_samples_leaf 0.12268519092697729\n",
      "min_samples_split 0.3453906651221019\n",
      "Current Score :  0.5\n",
      "----------------------------------------------------------------------------------------\n",
      "Current Parameters : \n",
      "max_depth 20\n",
      "min_samples_leaf 0.4248674915101974\n",
      "min_samples_split 0.5319794551375517\n",
      "Current Score :  0.5\n",
      "----------------------------------------------------------------------------------------\n",
      "Current Parameters : \n",
      "max_depth 16\n",
      "min_samples_leaf 0.4344315054149511\n",
      "min_samples_split 0.40365654437554166\n",
      "Current Score :  0.5\n",
      "----------------------------------------------------------------------------------------\n",
      "Current Parameters : \n",
      "max_depth 26\n",
      "min_samples_leaf 0.2472966159362192\n",
      "min_samples_split 0.9614396430577419\n",
      "Current Score :  0.5\n",
      "----------------------------------------------------------------------------------------\n",
      "Current Parameters : \n",
      "max_depth 6\n",
      "min_samples_leaf 0.4480349033433747\n",
      "min_samples_split 0.5262472407463396\n",
      "Current Score :  0.5\n",
      "----------------------------------------------------------------------------------------\n",
      "Current Parameters : \n",
      "max_depth 32\n",
      "min_samples_leaf 0.308190991820482\n",
      "min_samples_split 0.7109915771070644\n",
      "Current Score :  0.5\n",
      "----------------------------------------------------------------------------------------\n",
      "Current Parameters : \n",
      "max_depth 29\n",
      "min_samples_leaf 0.3328079168300429\n",
      "min_samples_split 0.5836359065041097\n",
      "Current Score :  0.5\n",
      "----------------------------------------------------------------------------------------\n",
      "Current Parameters : \n",
      "max_depth 31\n",
      "min_samples_leaf 0.14236304287511686\n",
      "min_samples_split 0.5262403774119918\n",
      "Current Score :  0.5\n",
      "----------------------------------------------------------------------------------------\n",
      "Current Parameters : \n",
      "max_depth 1\n",
      "min_samples_leaf 0.1\n",
      "min_samples_split 0.1\n",
      "Current Score :  0.5\n",
      "----------------------------------------------------------------------------------------\n",
      "Current Parameters : \n",
      "max_depth 3\n",
      "min_samples_leaf 0.11801654756896243\n",
      "min_samples_split 0.9999585603428134\n",
      "Current Score :  0.5\n",
      "----------------------------------------------------------------------------------------\n",
      "Current Parameters : \n",
      "max_depth 40\n",
      "min_samples_leaf 0.5\n",
      "min_samples_split 0.1\n",
      "Current Score :  0.5\n",
      "----------------------------------------------------------------------------------------\n",
      "Current Parameters : \n",
      "max_depth 2\n",
      "min_samples_leaf 0.49686201297246\n",
      "min_samples_split 0.9782936595404609\n",
      "Current Score :  0.5\n",
      "----------------------------------------------------------------------------------------\n",
      "Current Parameters : \n",
      "max_depth 38\n",
      "min_samples_leaf 0.1013420014064077\n",
      "min_samples_split 0.13704705817972665\n",
      "Current Score :  0.5\n",
      "----------------------------------------------------------------------------------------\n",
      "Current Parameters : \n",
      "max_depth 40\n",
      "min_samples_leaf 0.10668045793025041\n",
      "min_samples_split 0.9847159472760145\n",
      "Current Score :  0.5\n",
      "----------------------------------------------------------------------------------------\n",
      "Current Parameters : \n",
      "max_depth 3\n",
      "min_samples_leaf 0.49835015747881795\n",
      "min_samples_split 0.10498340542342631\n",
      "Current Score :  0.5\n",
      "----------------------------------------------------------------------------------------\n",
      "Current Parameters : \n",
      "max_depth 1\n",
      "min_samples_leaf 0.10659284671917138\n",
      "min_samples_split 0.1188394703085981\n",
      "Current Score :  0.5\n",
      "----------------------------------------------------------------------------------------\n",
      "Current Parameters : \n",
      "max_depth 2\n",
      "min_samples_leaf 0.4963466557497852\n",
      "min_samples_split 0.9970760251668621\n",
      "Current Score :  0.5\n"
     ]
    },
    {
     "name": "stderr",
     "output_type": "stream",
     "text": [
      "/home/karan/.local/lib/python3.6/site-packages/skopt/optimizer/optimizer.py:399: UserWarning: The objective has been evaluated at this point before.\n",
      "  warnings.warn(\"The objective has been evaluated \"\n"
     ]
    },
    {
     "name": "stdout",
     "output_type": "stream",
     "text": [
      "----------------------------------------------------------------------------------------\n",
      "Current Parameters : \n",
      "max_depth 40\n",
      "min_samples_leaf 0.5\n",
      "min_samples_split 0.1\n",
      "Current Score :  0.5\n",
      "----------------------------------------------------------------------------------------\n",
      "Current Parameters : \n",
      "max_depth 40\n",
      "min_samples_leaf 0.1\n",
      "min_samples_split 1.0\n"
     ]
    },
    {
     "ename": "KeyboardInterrupt",
     "evalue": "",
     "output_type": "error",
     "traceback": [
      "\u001b[0;31m---------------------------------------------------------------------------\u001b[0m",
      "\u001b[0;31mKeyboardInterrupt\u001b[0m                         Traceback (most recent call last)",
      "\u001b[0;32m<ipython-input-23-ed724bb32583>\u001b[0m in \u001b[0;36m<module>\u001b[0;34m\u001b[0m\n\u001b[0;32m----> 1\u001b[0;31m \u001b[0mresult_gp\u001b[0m \u001b[0;34m=\u001b[0m \u001b[0mgp_minimize\u001b[0m\u001b[0;34m(\u001b[0m\u001b[0mobjective_func3\u001b[0m\u001b[0;34m,\u001b[0m \u001b[0mspace3\u001b[0m\u001b[0;34m,\u001b[0m \u001b[0mn_calls\u001b[0m\u001b[0;34m=\u001b[0m\u001b[0;36m50\u001b[0m\u001b[0;34m,\u001b[0m \u001b[0mrandom_state\u001b[0m\u001b[0;34m=\u001b[0m\u001b[0;36m0\u001b[0m\u001b[0;34m,\u001b[0m \u001b[0mn_random_starts\u001b[0m\u001b[0;34m=\u001b[0m\u001b[0;36m10\u001b[0m\u001b[0;34m)\u001b[0m\u001b[0;34m\u001b[0m\u001b[0;34m\u001b[0m\u001b[0m\n\u001b[0m",
      "\u001b[0;32m~/.local/lib/python3.6/site-packages/skopt/optimizer/gp.py\u001b[0m in \u001b[0;36mgp_minimize\u001b[0;34m(func, dimensions, base_estimator, n_calls, n_random_starts, acq_func, acq_optimizer, x0, y0, random_state, verbose, callback, n_points, n_restarts_optimizer, xi, kappa, noise, n_jobs)\u001b[0m\n\u001b[1;32m    226\u001b[0m         \u001b[0mn_restarts_optimizer\u001b[0m\u001b[0;34m=\u001b[0m\u001b[0mn_restarts_optimizer\u001b[0m\u001b[0;34m,\u001b[0m\u001b[0;34m\u001b[0m\u001b[0;34m\u001b[0m\u001b[0m\n\u001b[1;32m    227\u001b[0m         \u001b[0mx0\u001b[0m\u001b[0;34m=\u001b[0m\u001b[0mx0\u001b[0m\u001b[0;34m,\u001b[0m \u001b[0my0\u001b[0m\u001b[0;34m=\u001b[0m\u001b[0my0\u001b[0m\u001b[0;34m,\u001b[0m \u001b[0mrandom_state\u001b[0m\u001b[0;34m=\u001b[0m\u001b[0mrng\u001b[0m\u001b[0;34m,\u001b[0m \u001b[0mverbose\u001b[0m\u001b[0;34m=\u001b[0m\u001b[0mverbose\u001b[0m\u001b[0;34m,\u001b[0m\u001b[0;34m\u001b[0m\u001b[0;34m\u001b[0m\u001b[0m\n\u001b[0;32m--> 228\u001b[0;31m         callback=callback, n_jobs=n_jobs)\n\u001b[0m",
      "\u001b[0;32m~/.local/lib/python3.6/site-packages/skopt/optimizer/base.py\u001b[0m in \u001b[0;36mbase_minimize\u001b[0;34m(func, dimensions, base_estimator, n_calls, n_random_starts, acq_func, acq_optimizer, x0, y0, random_state, verbose, callback, n_points, n_restarts_optimizer, xi, kappa, n_jobs)\u001b[0m\n\u001b[1;32m    246\u001b[0m     \u001b[0;32mfor\u001b[0m \u001b[0mn\u001b[0m \u001b[0;32min\u001b[0m \u001b[0mrange\u001b[0m\u001b[0;34m(\u001b[0m\u001b[0mn_calls\u001b[0m\u001b[0;34m)\u001b[0m\u001b[0;34m:\u001b[0m\u001b[0;34m\u001b[0m\u001b[0;34m\u001b[0m\u001b[0m\n\u001b[1;32m    247\u001b[0m         \u001b[0mnext_x\u001b[0m \u001b[0;34m=\u001b[0m \u001b[0moptimizer\u001b[0m\u001b[0;34m.\u001b[0m\u001b[0mask\u001b[0m\u001b[0;34m(\u001b[0m\u001b[0;34m)\u001b[0m\u001b[0;34m\u001b[0m\u001b[0;34m\u001b[0m\u001b[0m\n\u001b[0;32m--> 248\u001b[0;31m         \u001b[0mnext_y\u001b[0m \u001b[0;34m=\u001b[0m \u001b[0mfunc\u001b[0m\u001b[0;34m(\u001b[0m\u001b[0mnext_x\u001b[0m\u001b[0;34m)\u001b[0m\u001b[0;34m\u001b[0m\u001b[0;34m\u001b[0m\u001b[0m\n\u001b[0m\u001b[1;32m    249\u001b[0m         \u001b[0mresult\u001b[0m \u001b[0;34m=\u001b[0m \u001b[0moptimizer\u001b[0m\u001b[0;34m.\u001b[0m\u001b[0mtell\u001b[0m\u001b[0;34m(\u001b[0m\u001b[0mnext_x\u001b[0m\u001b[0;34m,\u001b[0m \u001b[0mnext_y\u001b[0m\u001b[0;34m)\u001b[0m\u001b[0;34m\u001b[0m\u001b[0;34m\u001b[0m\u001b[0m\n\u001b[1;32m    250\u001b[0m         \u001b[0mresult\u001b[0m\u001b[0;34m.\u001b[0m\u001b[0mspecs\u001b[0m \u001b[0;34m=\u001b[0m \u001b[0mspecs\u001b[0m\u001b[0;34m\u001b[0m\u001b[0;34m\u001b[0m\u001b[0m\n",
      "\u001b[0;32m<ipython-input-22-6c0542326761>\u001b[0m in \u001b[0;36mobjective_func3\u001b[0;34m(values)\u001b[0m\n\u001b[1;32m      8\u001b[0m     \u001b[0mprint\u001b[0m\u001b[0;34m(\u001b[0m\u001b[0;34m'min_samples_split'\u001b[0m\u001b[0;34m,\u001b[0m \u001b[0mvalues\u001b[0m\u001b[0;34m[\u001b[0m\u001b[0;36m2\u001b[0m\u001b[0;34m]\u001b[0m\u001b[0;34m)\u001b[0m\u001b[0;34m\u001b[0m\u001b[0;34m\u001b[0m\u001b[0m\n\u001b[1;32m      9\u001b[0m     \u001b[0mmodel\u001b[0m\u001b[0;34m.\u001b[0m\u001b[0mfit\u001b[0m\u001b[0;34m(\u001b[0m\u001b[0mX_train\u001b[0m\u001b[0;34m,\u001b[0m \u001b[0my_train\u001b[0m\u001b[0;34m)\u001b[0m\u001b[0;34m\u001b[0m\u001b[0;34m\u001b[0m\u001b[0m\n\u001b[0;32m---> 10\u001b[0;31m     \u001b[0mpredictions\u001b[0m \u001b[0;34m=\u001b[0m \u001b[0mmodel\u001b[0m\u001b[0;34m.\u001b[0m\u001b[0mpredict\u001b[0m\u001b[0;34m(\u001b[0m\u001b[0mX_test\u001b[0m\u001b[0;34m)\u001b[0m\u001b[0;34m\u001b[0m\u001b[0;34m\u001b[0m\u001b[0m\n\u001b[0m\u001b[1;32m     11\u001b[0m     \u001b[0mauc\u001b[0m \u001b[0;34m=\u001b[0m \u001b[0;34m-\u001b[0m \u001b[0mroc_auc_score\u001b[0m\u001b[0;34m(\u001b[0m\u001b[0my_test\u001b[0m\u001b[0;34m,\u001b[0m \u001b[0mpredictions\u001b[0m\u001b[0;34m)\u001b[0m\u001b[0;34m\u001b[0m\u001b[0;34m\u001b[0m\u001b[0m\n\u001b[1;32m     12\u001b[0m     \u001b[0mprint\u001b[0m\u001b[0;34m(\u001b[0m\u001b[0;34m'Current Score : '\u001b[0m\u001b[0;34m,\u001b[0m \u001b[0;34m-\u001b[0m\u001b[0mauc\u001b[0m\u001b[0;34m)\u001b[0m\u001b[0;34m\u001b[0m\u001b[0;34m\u001b[0m\u001b[0m\n",
      "\u001b[0;32m~/.local/lib/python3.6/site-packages/sklearn/tree/tree.py\u001b[0m in \u001b[0;36mpredict\u001b[0;34m(self, X, check_input)\u001b[0m\n\u001b[1;32m    414\u001b[0m         \"\"\"\n\u001b[1;32m    415\u001b[0m         \u001b[0mcheck_is_fitted\u001b[0m\u001b[0;34m(\u001b[0m\u001b[0mself\u001b[0m\u001b[0;34m,\u001b[0m \u001b[0;34m'tree_'\u001b[0m\u001b[0;34m)\u001b[0m\u001b[0;34m\u001b[0m\u001b[0;34m\u001b[0m\u001b[0m\n\u001b[0;32m--> 416\u001b[0;31m         \u001b[0mX\u001b[0m \u001b[0;34m=\u001b[0m \u001b[0mself\u001b[0m\u001b[0;34m.\u001b[0m\u001b[0m_validate_X_predict\u001b[0m\u001b[0;34m(\u001b[0m\u001b[0mX\u001b[0m\u001b[0;34m,\u001b[0m \u001b[0mcheck_input\u001b[0m\u001b[0;34m)\u001b[0m\u001b[0;34m\u001b[0m\u001b[0;34m\u001b[0m\u001b[0m\n\u001b[0m\u001b[1;32m    417\u001b[0m         \u001b[0mproba\u001b[0m \u001b[0;34m=\u001b[0m \u001b[0mself\u001b[0m\u001b[0;34m.\u001b[0m\u001b[0mtree_\u001b[0m\u001b[0;34m.\u001b[0m\u001b[0mpredict\u001b[0m\u001b[0;34m(\u001b[0m\u001b[0mX\u001b[0m\u001b[0;34m)\u001b[0m\u001b[0;34m\u001b[0m\u001b[0;34m\u001b[0m\u001b[0m\n\u001b[1;32m    418\u001b[0m         \u001b[0mn_samples\u001b[0m \u001b[0;34m=\u001b[0m \u001b[0mX\u001b[0m\u001b[0;34m.\u001b[0m\u001b[0mshape\u001b[0m\u001b[0;34m[\u001b[0m\u001b[0;36m0\u001b[0m\u001b[0;34m]\u001b[0m\u001b[0;34m\u001b[0m\u001b[0;34m\u001b[0m\u001b[0m\n",
      "\u001b[0;32m~/.local/lib/python3.6/site-packages/sklearn/tree/tree.py\u001b[0m in \u001b[0;36m_validate_X_predict\u001b[0;34m(self, X, check_input)\u001b[0m\n\u001b[1;32m    375\u001b[0m         \u001b[0;34m\"\"\"Validate X whenever one tries to predict, apply, predict_proba\"\"\"\u001b[0m\u001b[0;34m\u001b[0m\u001b[0;34m\u001b[0m\u001b[0m\n\u001b[1;32m    376\u001b[0m         \u001b[0;32mif\u001b[0m \u001b[0mcheck_input\u001b[0m\u001b[0;34m:\u001b[0m\u001b[0;34m\u001b[0m\u001b[0;34m\u001b[0m\u001b[0m\n\u001b[0;32m--> 377\u001b[0;31m             \u001b[0mX\u001b[0m \u001b[0;34m=\u001b[0m \u001b[0mcheck_array\u001b[0m\u001b[0;34m(\u001b[0m\u001b[0mX\u001b[0m\u001b[0;34m,\u001b[0m \u001b[0mdtype\u001b[0m\u001b[0;34m=\u001b[0m\u001b[0mDTYPE\u001b[0m\u001b[0;34m,\u001b[0m \u001b[0maccept_sparse\u001b[0m\u001b[0;34m=\u001b[0m\u001b[0;34m\"csr\"\u001b[0m\u001b[0;34m)\u001b[0m\u001b[0;34m\u001b[0m\u001b[0;34m\u001b[0m\u001b[0m\n\u001b[0m\u001b[1;32m    378\u001b[0m             if issparse(X) and (X.indices.dtype != np.intc or\n\u001b[1;32m    379\u001b[0m                                 X.indptr.dtype != np.intc):\n",
      "\u001b[0;32m~/.local/lib/python3.6/site-packages/sklearn/utils/validation.py\u001b[0m in \u001b[0;36mcheck_array\u001b[0;34m(array, accept_sparse, accept_large_sparse, dtype, order, copy, force_all_finite, ensure_2d, allow_nd, ensure_min_samples, ensure_min_features, warn_on_dtype, estimator)\u001b[0m\n\u001b[1;32m    525\u001b[0m             \u001b[0;32mtry\u001b[0m\u001b[0;34m:\u001b[0m\u001b[0;34m\u001b[0m\u001b[0;34m\u001b[0m\u001b[0m\n\u001b[1;32m    526\u001b[0m                 \u001b[0mwarnings\u001b[0m\u001b[0;34m.\u001b[0m\u001b[0msimplefilter\u001b[0m\u001b[0;34m(\u001b[0m\u001b[0;34m'error'\u001b[0m\u001b[0;34m,\u001b[0m \u001b[0mComplexWarning\u001b[0m\u001b[0;34m)\u001b[0m\u001b[0;34m\u001b[0m\u001b[0;34m\u001b[0m\u001b[0m\n\u001b[0;32m--> 527\u001b[0;31m                 \u001b[0marray\u001b[0m \u001b[0;34m=\u001b[0m \u001b[0mnp\u001b[0m\u001b[0;34m.\u001b[0m\u001b[0masarray\u001b[0m\u001b[0;34m(\u001b[0m\u001b[0marray\u001b[0m\u001b[0;34m,\u001b[0m \u001b[0mdtype\u001b[0m\u001b[0;34m=\u001b[0m\u001b[0mdtype\u001b[0m\u001b[0;34m,\u001b[0m \u001b[0morder\u001b[0m\u001b[0;34m=\u001b[0m\u001b[0morder\u001b[0m\u001b[0;34m)\u001b[0m\u001b[0;34m\u001b[0m\u001b[0;34m\u001b[0m\u001b[0m\n\u001b[0m\u001b[1;32m    528\u001b[0m             \u001b[0;32mexcept\u001b[0m \u001b[0mComplexWarning\u001b[0m\u001b[0;34m:\u001b[0m\u001b[0;34m\u001b[0m\u001b[0;34m\u001b[0m\u001b[0m\n\u001b[1;32m    529\u001b[0m                 raise ValueError(\"Complex data not supported\\n\"\n",
      "\u001b[0;32m~/.local/lib/python3.6/site-packages/numpy/core/numeric.py\u001b[0m in \u001b[0;36masarray\u001b[0;34m(a, dtype, order)\u001b[0m\n\u001b[1;32m    499\u001b[0m \u001b[0;34m\u001b[0m\u001b[0m\n\u001b[1;32m    500\u001b[0m     \"\"\"\n\u001b[0;32m--> 501\u001b[0;31m     \u001b[0;32mreturn\u001b[0m \u001b[0marray\u001b[0m\u001b[0;34m(\u001b[0m\u001b[0ma\u001b[0m\u001b[0;34m,\u001b[0m \u001b[0mdtype\u001b[0m\u001b[0;34m,\u001b[0m \u001b[0mcopy\u001b[0m\u001b[0;34m=\u001b[0m\u001b[0;32mFalse\u001b[0m\u001b[0;34m,\u001b[0m \u001b[0morder\u001b[0m\u001b[0;34m=\u001b[0m\u001b[0morder\u001b[0m\u001b[0;34m)\u001b[0m\u001b[0;34m\u001b[0m\u001b[0;34m\u001b[0m\u001b[0m\n\u001b[0m\u001b[1;32m    502\u001b[0m \u001b[0;34m\u001b[0m\u001b[0m\n\u001b[1;32m    503\u001b[0m \u001b[0;34m\u001b[0m\u001b[0m\n",
      "\u001b[0;32m~/.local/lib/python3.6/site-packages/pandas/core/generic.py\u001b[0m in \u001b[0;36m__array__\u001b[0;34m(self, dtype)\u001b[0m\n\u001b[1;32m   1604\u001b[0m \u001b[0;34m\u001b[0m\u001b[0m\n\u001b[1;32m   1605\u001b[0m     \u001b[0;32mdef\u001b[0m \u001b[0m__array__\u001b[0m\u001b[0;34m(\u001b[0m\u001b[0mself\u001b[0m\u001b[0;34m,\u001b[0m \u001b[0mdtype\u001b[0m\u001b[0;34m=\u001b[0m\u001b[0;32mNone\u001b[0m\u001b[0;34m)\u001b[0m\u001b[0;34m:\u001b[0m\u001b[0;34m\u001b[0m\u001b[0;34m\u001b[0m\u001b[0m\n\u001b[0;32m-> 1606\u001b[0;31m         \u001b[0;32mreturn\u001b[0m \u001b[0mcom\u001b[0m\u001b[0;34m.\u001b[0m\u001b[0m_values_from_object\u001b[0m\u001b[0;34m(\u001b[0m\u001b[0mself\u001b[0m\u001b[0;34m)\u001b[0m\u001b[0;34m\u001b[0m\u001b[0;34m\u001b[0m\u001b[0m\n\u001b[0m\u001b[1;32m   1607\u001b[0m \u001b[0;34m\u001b[0m\u001b[0m\n\u001b[1;32m   1608\u001b[0m     \u001b[0;32mdef\u001b[0m \u001b[0m__array_wrap__\u001b[0m\u001b[0;34m(\u001b[0m\u001b[0mself\u001b[0m\u001b[0;34m,\u001b[0m \u001b[0mresult\u001b[0m\u001b[0;34m,\u001b[0m \u001b[0mcontext\u001b[0m\u001b[0;34m=\u001b[0m\u001b[0;32mNone\u001b[0m\u001b[0;34m)\u001b[0m\u001b[0;34m:\u001b[0m\u001b[0;34m\u001b[0m\u001b[0;34m\u001b[0m\u001b[0m\n",
      "\u001b[0;32mpandas/_libs/lib.pyx\u001b[0m in \u001b[0;36mpandas._libs.lib.values_from_object\u001b[0;34m()\u001b[0m\n",
      "\u001b[0;32m~/.local/lib/python3.6/site-packages/pandas/core/generic.py\u001b[0m in \u001b[0;36mget_values\u001b[0;34m(self)\u001b[0m\n\u001b[1;32m   4686\u001b[0m                [nan,  3.]])\n\u001b[1;32m   4687\u001b[0m         \"\"\"\n\u001b[0;32m-> 4688\u001b[0;31m         \u001b[0;32mreturn\u001b[0m \u001b[0mself\u001b[0m\u001b[0;34m.\u001b[0m\u001b[0mvalues\u001b[0m\u001b[0;34m\u001b[0m\u001b[0;34m\u001b[0m\u001b[0m\n\u001b[0m\u001b[1;32m   4689\u001b[0m \u001b[0;34m\u001b[0m\u001b[0m\n\u001b[1;32m   4690\u001b[0m     \u001b[0;32mdef\u001b[0m \u001b[0mget_dtype_counts\u001b[0m\u001b[0;34m(\u001b[0m\u001b[0mself\u001b[0m\u001b[0;34m)\u001b[0m\u001b[0;34m:\u001b[0m\u001b[0;34m\u001b[0m\u001b[0;34m\u001b[0m\u001b[0m\n",
      "\u001b[0;32m~/.local/lib/python3.6/site-packages/pandas/core/generic.py\u001b[0m in \u001b[0;36mvalues\u001b[0;34m(self)\u001b[0m\n\u001b[1;32m   4631\u001b[0m         \"\"\"\n\u001b[1;32m   4632\u001b[0m         \u001b[0mself\u001b[0m\u001b[0;34m.\u001b[0m\u001b[0m_consolidate_inplace\u001b[0m\u001b[0;34m(\u001b[0m\u001b[0;34m)\u001b[0m\u001b[0;34m\u001b[0m\u001b[0;34m\u001b[0m\u001b[0m\n\u001b[0;32m-> 4633\u001b[0;31m         \u001b[0;32mreturn\u001b[0m \u001b[0mself\u001b[0m\u001b[0;34m.\u001b[0m\u001b[0m_data\u001b[0m\u001b[0;34m.\u001b[0m\u001b[0mas_array\u001b[0m\u001b[0;34m(\u001b[0m\u001b[0mtranspose\u001b[0m\u001b[0;34m=\u001b[0m\u001b[0mself\u001b[0m\u001b[0;34m.\u001b[0m\u001b[0m_AXIS_REVERSED\u001b[0m\u001b[0;34m)\u001b[0m\u001b[0;34m\u001b[0m\u001b[0;34m\u001b[0m\u001b[0m\n\u001b[0m\u001b[1;32m   4634\u001b[0m \u001b[0;34m\u001b[0m\u001b[0m\n\u001b[1;32m   4635\u001b[0m     \u001b[0;34m@\u001b[0m\u001b[0mproperty\u001b[0m\u001b[0;34m\u001b[0m\u001b[0;34m\u001b[0m\u001b[0m\n",
      "\u001b[0;32m~/.local/lib/python3.6/site-packages/pandas/core/internals.py\u001b[0m in \u001b[0;36mas_array\u001b[0;34m(self, transpose, items)\u001b[0m\n\u001b[1;32m   3947\u001b[0m             \u001b[0marr\u001b[0m \u001b[0;34m=\u001b[0m \u001b[0mmgr\u001b[0m\u001b[0;34m.\u001b[0m\u001b[0mblocks\u001b[0m\u001b[0;34m[\u001b[0m\u001b[0;36m0\u001b[0m\u001b[0;34m]\u001b[0m\u001b[0;34m.\u001b[0m\u001b[0mget_values\u001b[0m\u001b[0;34m(\u001b[0m\u001b[0;34m)\u001b[0m\u001b[0;34m\u001b[0m\u001b[0;34m\u001b[0m\u001b[0m\n\u001b[1;32m   3948\u001b[0m         \u001b[0;32melse\u001b[0m\u001b[0;34m:\u001b[0m\u001b[0;34m\u001b[0m\u001b[0;34m\u001b[0m\u001b[0m\n\u001b[0;32m-> 3949\u001b[0;31m             \u001b[0marr\u001b[0m \u001b[0;34m=\u001b[0m \u001b[0mmgr\u001b[0m\u001b[0;34m.\u001b[0m\u001b[0m_interleave\u001b[0m\u001b[0;34m(\u001b[0m\u001b[0;34m)\u001b[0m\u001b[0;34m\u001b[0m\u001b[0;34m\u001b[0m\u001b[0m\n\u001b[0m\u001b[1;32m   3950\u001b[0m \u001b[0;34m\u001b[0m\u001b[0m\n\u001b[1;32m   3951\u001b[0m         \u001b[0;32mreturn\u001b[0m \u001b[0marr\u001b[0m\u001b[0;34m.\u001b[0m\u001b[0mtranspose\u001b[0m\u001b[0;34m(\u001b[0m\u001b[0;34m)\u001b[0m \u001b[0;32mif\u001b[0m \u001b[0mtranspose\u001b[0m \u001b[0;32melse\u001b[0m \u001b[0marr\u001b[0m\u001b[0;34m\u001b[0m\u001b[0;34m\u001b[0m\u001b[0m\n",
      "\u001b[0;32m~/.local/lib/python3.6/site-packages/pandas/core/internals.py\u001b[0m in \u001b[0;36m_interleave\u001b[0;34m(self)\u001b[0m\n\u001b[1;32m   3976\u001b[0m         \u001b[0;32mfor\u001b[0m \u001b[0mblk\u001b[0m \u001b[0;32min\u001b[0m \u001b[0mself\u001b[0m\u001b[0;34m.\u001b[0m\u001b[0mblocks\u001b[0m\u001b[0;34m:\u001b[0m\u001b[0;34m\u001b[0m\u001b[0;34m\u001b[0m\u001b[0m\n\u001b[1;32m   3977\u001b[0m             \u001b[0mrl\u001b[0m \u001b[0;34m=\u001b[0m \u001b[0mblk\u001b[0m\u001b[0;34m.\u001b[0m\u001b[0mmgr_locs\u001b[0m\u001b[0;34m\u001b[0m\u001b[0;34m\u001b[0m\u001b[0m\n\u001b[0;32m-> 3978\u001b[0;31m             \u001b[0mresult\u001b[0m\u001b[0;34m[\u001b[0m\u001b[0mrl\u001b[0m\u001b[0;34m.\u001b[0m\u001b[0mindexer\u001b[0m\u001b[0;34m]\u001b[0m \u001b[0;34m=\u001b[0m \u001b[0mblk\u001b[0m\u001b[0;34m.\u001b[0m\u001b[0mget_values\u001b[0m\u001b[0;34m(\u001b[0m\u001b[0mdtype\u001b[0m\u001b[0;34m)\u001b[0m\u001b[0;34m\u001b[0m\u001b[0;34m\u001b[0m\u001b[0m\n\u001b[0m\u001b[1;32m   3979\u001b[0m             \u001b[0mitemmask\u001b[0m\u001b[0;34m[\u001b[0m\u001b[0mrl\u001b[0m\u001b[0;34m.\u001b[0m\u001b[0mindexer\u001b[0m\u001b[0;34m]\u001b[0m \u001b[0;34m=\u001b[0m \u001b[0;36m1\u001b[0m\u001b[0;34m\u001b[0m\u001b[0;34m\u001b[0m\u001b[0m\n\u001b[1;32m   3980\u001b[0m \u001b[0;34m\u001b[0m\u001b[0m\n",
      "\u001b[0;31mKeyboardInterrupt\u001b[0m: "
     ]
    }
   ],
   "source": [
    "result_gp = gp_minimize(objective_func3, space3, n_calls=50, random_state=0, n_random_starts=10)"
   ]
  },
  {
   "cell_type": "code",
   "execution_count": null,
   "metadata": {},
   "outputs": [],
   "source": []
  }
 ],
 "metadata": {
  "kernelspec": {
   "display_name": "Python 3",
   "language": "python",
   "name": "python3"
  },
  "language_info": {
   "codemirror_mode": {
    "name": "ipython",
    "version": 3
   },
   "file_extension": ".py",
   "mimetype": "text/x-python",
   "name": "python",
   "nbconvert_exporter": "python",
   "pygments_lexer": "ipython3",
   "version": "3.6.7"
  }
 },
 "nbformat": 4,
 "nbformat_minor": 2
}
