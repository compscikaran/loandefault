{
 "cells": [
  {
   "cell_type": "code",
   "execution_count": 10,
   "metadata": {},
   "outputs": [],
   "source": [
    "import numpy as np\n",
    "import pandas as pd\n",
    "import matplotlib.pyplot as plt\n",
    "import seaborn as sns\n",
    "import lightgbm as lgb\n",
    "import gc"
   ]
  },
  {
   "cell_type": "code",
   "execution_count": 11,
   "metadata": {},
   "outputs": [],
   "source": [
    "from skopt import gp_minimize\n",
    "from skopt.space import Real, Integer\n",
    "from skopt.utils import use_named_args\n",
    "from sklearn.metrics import roc_auc_score\n",
    "from sklearn.model_selection import train_test_split"
   ]
  },
  {
   "cell_type": "markdown",
   "metadata": {},
   "source": [
    "# Prepping Data for algorithm"
   ]
  },
  {
   "cell_type": "code",
   "execution_count": 3,
   "metadata": {},
   "outputs": [],
   "source": [
    "X = pd.read_csv('../input/final_data.csv')\n",
    "Y = pd.read_csv('../input/final_target.csv', header=None)"
   ]
  },
  {
   "cell_type": "code",
   "execution_count": 4,
   "metadata": {},
   "outputs": [],
   "source": [
    "Y = Y[1]"
   ]
  },
  {
   "cell_type": "code",
   "execution_count": 5,
   "metadata": {},
   "outputs": [],
   "source": [
    "X_train, X_test, y_train, y_test = train_test_split(X, Y, test_size=0.2, random_state=18)"
   ]
  },
  {
   "cell_type": "code",
   "execution_count": 6,
   "metadata": {},
   "outputs": [],
   "source": [
    "train_lgb = lgb.Dataset(data=X_train, label=y_train)"
   ]
  },
  {
   "cell_type": "markdown",
   "metadata": {},
   "source": [
    "# Defining Search Space"
   ]
  },
  {
   "cell_type": "code",
   "execution_count": 22,
   "metadata": {},
   "outputs": [],
   "source": [
    "space  = [Integer(3, 10, name='max_depth'),\n",
    "          Integer(5, 50, name='num_leaves'),\n",
    "          Real(0, 0.5, name='reg_alpha'),\n",
    "          Real(0.6, 0.9, name='subsample'),\n",
    "          Real(0.6, 0.9, name='colsample_bytree'),\n",
    "          Real(0, 0.5, name='reg_lambda'),\n",
    "          Real(0.01, 0.02, name='learning_rate'),\n",
    "          Real(0.01, 0.03, name='min_split_gain'),\n",
    "          Integer(1, 40, name='min_child_weight')\n",
    "         ]"
   ]
  },
  {
   "cell_type": "markdown",
   "metadata": {},
   "source": [
    "# Defining Objective function to optimize"
   ]
  },
  {
   "cell_type": "code",
   "execution_count": 23,
   "metadata": {},
   "outputs": [],
   "source": [
    "def objective_func(values):\n",
    "    params = {\n",
    "        'task': 'train', \n",
    "        'boosting_type': 'gbdt', \n",
    "        'objective': 'binary', \n",
    "        'metric': 'auc', \n",
    "        'learning_rate': values[6], \n",
    "        'num_leaves': values[1], \n",
    "        'verbose': 0 ,\n",
    "        'colsample_bytree':values[4],\n",
    "        'subsample':values[3], \n",
    "        'max_depth':values[0], \n",
    "        'reg_alpha':values[2], \n",
    "        'reg_lambda':values[5], \n",
    "        'min_split_gain':values[7], \n",
    "        'min_child_weight':values[8]\n",
    "    }\n",
    "    print('----------------------------------------------------------------------------------------')\n",
    "    print('Current Parameters : ', params)\n",
    "    model = lgb.train(params, train_lgb,500)\n",
    "    predictions_lgb = model.predict(X_test)\n",
    "    auc = - roc_auc_score(y_test, predictions_lgb)\n",
    "    print('Current Score : ', -auc)\n",
    "    gc.collect()\n",
    "    return auc"
   ]
  },
  {
   "cell_type": "markdown",
   "metadata": {},
   "source": [
    "# Running Optimization Algorithm"
   ]
  },
  {
   "cell_type": "code",
   "execution_count": null,
   "metadata": {},
   "outputs": [
    {
     "name": "stdout",
     "output_type": "stream",
     "text": [
      "----------------------------------------------------------------------------------------\n",
      "Current Parameters :  {'task': 'train', 'boosting_type': 'gbdt', 'objective': 'binary', 'metric': 'auc', 'learning_rate': 0.012975346065444723, 'num_leaves': 43, 'verbose': 0, 'colsample_bytree': 0.7870691090357917, 'subsample': 0.8541755216352377, 'max_depth': 7, 'reg_alpha': 0.4289728088113785, 'reg_lambda': 0.19219085364634997, 'min_split_gain': 0.011134259546348864, 'min_child_weight': 12}\n"
     ]
    }
   ],
   "source": [
    "result_gp = gp_minimize(objective_func, space, n_calls=50, random_state=0, n_random_starts=10)"
   ]
  },
  {
   "cell_type": "code",
   "execution_count": null,
   "metadata": {},
   "outputs": [],
   "source": []
  }
 ],
 "metadata": {
  "kernelspec": {
   "display_name": "Python 3",
   "language": "python",
   "name": "python3"
  },
  "language_info": {
   "codemirror_mode": {
    "name": "ipython",
    "version": 3
   },
   "file_extension": ".py",
   "mimetype": "text/x-python",
   "name": "python",
   "nbconvert_exporter": "python",
   "pygments_lexer": "ipython3",
   "version": "3.6.7"
  }
 },
 "nbformat": 4,
 "nbformat_minor": 2
}
