{
 "cells": [
  {
   "cell_type": "code",
   "execution_count": 3,
   "metadata": {},
   "outputs": [],
   "source": [
    "import numpy as np\n",
    "import pandas as pd\n",
    "import matplotlib.pyplot as plt\n",
    "import seaborn as sns"
   ]
  },
  {
   "cell_type": "code",
   "execution_count": 1,
   "metadata": {},
   "outputs": [],
   "source": [
    "from sklearn.tree import DecisionTreeClassifier\n",
    "from sklearn.ensemble import RandomForestClassifier\n",
    "from sklearn.naive_bayes import GaussianNB\n",
    "from sklearn.metrics import accuracy_score, classification_report, confusion_matrix, roc_auc_score\n",
    "from sklearn.model_selection import train_test_split\n",
    "from xgboost import XGBClassifier"
   ]
  },
  {
   "cell_type": "code",
   "execution_count": 2,
   "metadata": {},
   "outputs": [],
   "source": [
    "def print_metrics(y_test,predictions,model):\n",
    "    print('\\033[1m' + model + '\\033[0m' + '\\n\\n')\n",
    "    print('\\033[1m' + 'Classification Report - ' + '\\033[0m')\n",
    "    print(classification_report(y_test,predictions))\n",
    "    print('\\033[1m' + 'ROC AUC Score - ' + '\\033[0m')\n",
    "    print(roc_auc_score(y_test,predictions))\n",
    "    print('\\033[1m' + 'Accuracy Score - ' + '\\033[0m')\n",
    "    print(accuracy_score(y_test,predictions))\n",
    "    \n",
    "    \n",
    "\n",
    "def dtree(X,y):\n",
    "    X_train, X_test, y_train, y_test = train_test_split(X, Y, test_size=0.3, random_state=42)\n",
    "    dt = DecisionTreeClassifier()\n",
    "    dt.fit(X_train,y_train)\n",
    "    predictions_dt = dt.predict(X_test)\n",
    "    print_metrics(y_test,predictions_dt,'Decision Tree')\n",
    "    \n",
    "def xboost(X,y):\n",
    "    X_train, X_test, y_train, y_test = train_test_split(X, Y, test_size=0.3, random_state=42)\n",
    "    boost = XGBClassifier(eval_metric='auc')\n",
    "    boost.fit(X_train,y_train)\n",
    "    predictions_boost = boost.predict(X_test)\n",
    "    print_metrics(y_test,predictions_boost,'XGBoost')\n",
    "    \n",
    "def rforrest(X,y,n):\n",
    "    X_train, X_test, y_train, y_test = train_test_split(X, Y, test_size=0.3, random_state=42)\n",
    "    rfc = RandomForestClassifier(n_estimators=n,n_jobs=-1)\n",
    "    rfc.fit(X_train,y_train)\n",
    "    predictions_rfc = rfc.predict(X_test)\n",
    "    print_metrics(y_test,predictions_rfc,'Random Forrest')\n",
    "    \n",
    "def nbayes(X,y):\n",
    "    X_train, X_test, y_train, y_test = train_test_split(X, Y, test_size=0.3, random_state=42)\n",
    "    nb = GaussianNB()\n",
    "    nb.fit(X_train,y_train)\n",
    "    predictions_nb = nb.predict(X_test)\n",
    "    print_metrics(y_test,predictions_nb,'Naive Bayes')"
   ]
  },
  {
   "cell_type": "code",
   "execution_count": 8,
   "metadata": {},
   "outputs": [],
   "source": [
    "X = pd.read_csv('../input/final_data.csv')\n",
    "Y = pd.read_csv('../input/final_target.csv', header=None)"
   ]
  },
  {
   "cell_type": "code",
   "execution_count": 12,
   "metadata": {},
   "outputs": [],
   "source": [
    "Y = Y[1]"
   ]
  },
  {
   "cell_type": "code",
   "execution_count": null,
   "metadata": {},
   "outputs": [],
   "source": [
    "xboost(X,Y)"
   ]
  },
  {
   "cell_type": "code",
   "execution_count": null,
   "metadata": {},
   "outputs": [],
   "source": []
  }
 ],
 "metadata": {
  "kernelspec": {
   "display_name": "Python 3",
   "language": "python",
   "name": "python3"
  },
  "language_info": {
   "codemirror_mode": {
    "name": "ipython",
    "version": 3
   },
   "file_extension": ".py",
   "mimetype": "text/x-python",
   "name": "python",
   "nbconvert_exporter": "python",
   "pygments_lexer": "ipython3",
   "version": "3.6.6"
  }
 },
 "nbformat": 4,
 "nbformat_minor": 2
}
